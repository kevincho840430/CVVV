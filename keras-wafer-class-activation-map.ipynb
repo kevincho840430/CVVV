{
 "cells": [
  {
   "cell_type": "markdown",
   "metadata": {
    "_cell_guid": "94dd8eb2-9956-4592-9921-6ecc2a8b05b8",
    "_uuid": "663c2e5dded11c88a0ec1ec0970051048bec4f3c"
   },
   "source": [
    "## Additional changes\n",
    "I have used CNN as classifier, but this kernel use CAM(Class Activation Map) as classifier and Activation feature map. \n",
    "Most of them are same, Little different at Network. and than we can see how CAM activate.\n",
    "\n",
    "\n",
    "## Introduction\n",
    "Hi, It's my first dataset kernel. <br>\n",
    "This kernel forked from WM-811k Wafermap[https://www.kaggle.com/ashishpatel26/wm-811k-wafermap].<br>\n",
    "This dataset has various wafer resolution with class imbalanced. so I just consider specific subset wafer that has 26x26 resolution.<br> \n",
    "and solve imbalance problem using 2D convolutional autoencoder. then, classfy faulty case labels."
   ]
  },
  {
   "cell_type": "code",
   "execution_count": 1,
   "metadata": {
    "_cell_guid": "b1076dfc-b9ad-4769-8c92-a6c4dae69d19",
    "_uuid": "8f2839f25d086af736a60e9eeb907d3b93b6e0e5"
   },
   "outputs": [
    {
     "name": "stderr",
     "output_type": "stream",
     "text": [
      "Using TensorFlow backend.\n"
     ]
    },
    {
     "name": "stdout",
     "output_type": "stream",
     "text": [
      "['LSWMD.pkl']\n"
     ]
    }
   ],
   "source": [
    "import os\n",
    "from os.path import join\n",
    "\n",
    "import numpy as np\n",
    "import pandas as pd\n",
    "import cv2\n",
    "\n",
    "import tensorflow as tf\n",
    "import keras\n",
    "from keras import layers, Input, models\n",
    "from keras.utils import to_categorical\n",
    "from keras.wrappers.scikit_learn import KerasClassifier \n",
    "from sklearn.model_selection import KFold \n",
    "from sklearn.model_selection import cross_val_score\n",
    "\n",
    "from sklearn.model_selection import train_test_split\n",
    "\n",
    "import matplotlib.pyplot as plt\n",
    "\n",
    "datapath = join('data', 'wafer')\n",
    "\n",
    "print(os.listdir(\"../input\"))\n",
    "import warnings\n",
    "warnings.filterwarnings(\"ignore\")"
   ]
  },
  {
   "cell_type": "markdown",
   "metadata": {
    "_cell_guid": "2f3f3b9c-ef8b-4e10-80d2-95d3f5fb13b4",
    "_uuid": "bfea8c944ea6ab74cb51b52b017545698fc4eef5"
   },
   "source": [
    "### Read data"
   ]
  },
  {
   "cell_type": "code",
   "execution_count": 2,
   "metadata": {
    "_cell_guid": "79c7e3d0-c299-4dcb-8224-4455121ee9b0",
    "_uuid": "d629ff2d2480ee46fbb7e2d37f6b5fab8052498a"
   },
   "outputs": [
    {
     "name": "stdout",
     "output_type": "stream",
     "text": [
      "<class 'pandas.core.frame.DataFrame'>\n",
      "RangeIndex: 811457 entries, 0 to 811456\n",
      "Data columns (total 6 columns):\n",
      "waferMap          811457 non-null object\n",
      "dieSize           811457 non-null float64\n",
      "lotName           811457 non-null object\n",
      "waferIndex        811457 non-null float64\n",
      "trianTestLabel    811457 non-null object\n",
      "failureType       811457 non-null object\n",
      "dtypes: float64(2), object(4)\n",
      "memory usage: 37.1+ MB\n"
     ]
    }
   ],
   "source": [
    "df=pd.read_pickle(\"../input/LSWMD.pkl\")\n",
    "df.info()"
   ]
  },
  {
   "cell_type": "markdown",
   "metadata": {
    "_cell_guid": "8bf109c0-3b2d-47bf-8a24-46ef9f96f76a",
    "_uuid": "ccb0182b1e53af50d3074e345c19b24df2d379e8"
   },
   "source": [
    "* The dataset comprises **811,457 wafer maps**, along with additional information such as **wafer die size**, **lot name** and **wafer index**. \n",
    "\n",
    "* The training / test set were already split by domain experts, but in this kernel we ignore this info and we re-divided the dataset into training set and test set by hold-out mehtod which will be introduced in later section."
   ]
  },
  {
   "cell_type": "markdown",
   "metadata": {
    "_cell_guid": "e31771e9-b0d9-4409-aca5-7b079de9e1e0",
    "_uuid": "13c436c2465c6b8818d32e7243dada3ee4bb40e7"
   },
   "source": [
    ">Target distribution"
   ]
  },
  {
   "cell_type": "code",
   "execution_count": 3,
   "metadata": {
    "_cell_guid": "68f6fd95-8687-450f-827b-418cc7143362",
    "_uuid": "6bb42da7f6371cdc7c624d67d29cb3ed395c7393"
   },
   "outputs": [
    {
     "data": {
      "text/html": [
       "<div>\n",
       "<style scoped>\n",
       "    .dataframe tbody tr th:only-of-type {\n",
       "        vertical-align: middle;\n",
       "    }\n",
       "\n",
       "    .dataframe tbody tr th {\n",
       "        vertical-align: top;\n",
       "    }\n",
       "\n",
       "    .dataframe thead th {\n",
       "        text-align: right;\n",
       "    }\n",
       "</style>\n",
       "<table border=\"1\" class=\"dataframe\">\n",
       "  <thead>\n",
       "    <tr style=\"text-align: right;\">\n",
       "      <th></th>\n",
       "      <th>waferMap</th>\n",
       "      <th>dieSize</th>\n",
       "      <th>lotName</th>\n",
       "      <th>waferIndex</th>\n",
       "      <th>trianTestLabel</th>\n",
       "      <th>failureType</th>\n",
       "    </tr>\n",
       "  </thead>\n",
       "  <tbody>\n",
       "    <tr>\n",
       "      <th>0</th>\n",
       "      <td>[[0, 0, 0, 0, 0, 0, 0, 0, 0, 0, 0, 0, 0, 0, 0,...</td>\n",
       "      <td>1683.0</td>\n",
       "      <td>lot1</td>\n",
       "      <td>1.0</td>\n",
       "      <td>[[Training]]</td>\n",
       "      <td>[[none]]</td>\n",
       "    </tr>\n",
       "    <tr>\n",
       "      <th>1</th>\n",
       "      <td>[[0, 0, 0, 0, 0, 0, 0, 0, 0, 0, 0, 0, 0, 0, 0,...</td>\n",
       "      <td>1683.0</td>\n",
       "      <td>lot1</td>\n",
       "      <td>2.0</td>\n",
       "      <td>[[Training]]</td>\n",
       "      <td>[[none]]</td>\n",
       "    </tr>\n",
       "    <tr>\n",
       "      <th>2</th>\n",
       "      <td>[[0, 0, 0, 0, 0, 0, 0, 0, 0, 0, 0, 0, 0, 0, 0,...</td>\n",
       "      <td>1683.0</td>\n",
       "      <td>lot1</td>\n",
       "      <td>3.0</td>\n",
       "      <td>[[Training]]</td>\n",
       "      <td>[[none]]</td>\n",
       "    </tr>\n",
       "    <tr>\n",
       "      <th>3</th>\n",
       "      <td>[[0, 0, 0, 0, 0, 0, 0, 0, 0, 0, 0, 0, 0, 0, 0,...</td>\n",
       "      <td>1683.0</td>\n",
       "      <td>lot1</td>\n",
       "      <td>4.0</td>\n",
       "      <td>[[Training]]</td>\n",
       "      <td>[[none]]</td>\n",
       "    </tr>\n",
       "    <tr>\n",
       "      <th>4</th>\n",
       "      <td>[[0, 0, 0, 0, 0, 0, 0, 0, 0, 0, 0, 0, 0, 0, 0,...</td>\n",
       "      <td>1683.0</td>\n",
       "      <td>lot1</td>\n",
       "      <td>5.0</td>\n",
       "      <td>[[Training]]</td>\n",
       "      <td>[[none]]</td>\n",
       "    </tr>\n",
       "  </tbody>\n",
       "</table>\n",
       "</div>"
      ],
      "text/plain": [
       "                                            waferMap     ...       failureType\n",
       "0  [[0, 0, 0, 0, 0, 0, 0, 0, 0, 0, 0, 0, 0, 0, 0,...     ...          [[none]]\n",
       "1  [[0, 0, 0, 0, 0, 0, 0, 0, 0, 0, 0, 0, 0, 0, 0,...     ...          [[none]]\n",
       "2  [[0, 0, 0, 0, 0, 0, 0, 0, 0, 0, 0, 0, 0, 0, 0,...     ...          [[none]]\n",
       "3  [[0, 0, 0, 0, 0, 0, 0, 0, 0, 0, 0, 0, 0, 0, 0,...     ...          [[none]]\n",
       "4  [[0, 0, 0, 0, 0, 0, 0, 0, 0, 0, 0, 0, 0, 0, 0,...     ...          [[none]]\n",
       "\n",
       "[5 rows x 6 columns]"
      ]
     },
     "execution_count": 3,
     "metadata": {},
     "output_type": "execute_result"
    }
   ],
   "source": [
    "df.head()"
   ]
  },
  {
   "cell_type": "code",
   "execution_count": 4,
   "metadata": {
    "_cell_guid": "26296434-bb94-4600-ac5c-e60052540fc2",
    "_uuid": "81b4438880a465265144c4189c8e79457329604e"
   },
   "outputs": [
    {
     "data": {
      "text/html": [
       "<div>\n",
       "<style scoped>\n",
       "    .dataframe tbody tr th:only-of-type {\n",
       "        vertical-align: middle;\n",
       "    }\n",
       "\n",
       "    .dataframe tbody tr th {\n",
       "        vertical-align: top;\n",
       "    }\n",
       "\n",
       "    .dataframe thead th {\n",
       "        text-align: right;\n",
       "    }\n",
       "</style>\n",
       "<table border=\"1\" class=\"dataframe\">\n",
       "  <thead>\n",
       "    <tr style=\"text-align: right;\">\n",
       "      <th></th>\n",
       "      <th>waferMap</th>\n",
       "      <th>dieSize</th>\n",
       "      <th>lotName</th>\n",
       "      <th>waferIndex</th>\n",
       "      <th>trianTestLabel</th>\n",
       "      <th>failureType</th>\n",
       "    </tr>\n",
       "  </thead>\n",
       "  <tbody>\n",
       "    <tr>\n",
       "      <th>811452</th>\n",
       "      <td>[[0, 0, 0, 0, 0, 0, 0, 0, 0, 0, 0, 1, 2, 1, 1,...</td>\n",
       "      <td>600.0</td>\n",
       "      <td>lot47542</td>\n",
       "      <td>23.0</td>\n",
       "      <td>[[Test]]</td>\n",
       "      <td>[[Edge-Ring]]</td>\n",
       "    </tr>\n",
       "    <tr>\n",
       "      <th>811453</th>\n",
       "      <td>[[0, 0, 0, 0, 0, 0, 0, 0, 0, 0, 0, 2, 2, 1, 1,...</td>\n",
       "      <td>600.0</td>\n",
       "      <td>lot47542</td>\n",
       "      <td>24.0</td>\n",
       "      <td>[[Test]]</td>\n",
       "      <td>[[Edge-Loc]]</td>\n",
       "    </tr>\n",
       "    <tr>\n",
       "      <th>811454</th>\n",
       "      <td>[[0, 0, 0, 0, 0, 0, 0, 0, 0, 0, 0, 1, 2, 1, 1,...</td>\n",
       "      <td>600.0</td>\n",
       "      <td>lot47542</td>\n",
       "      <td>25.0</td>\n",
       "      <td>[[Test]]</td>\n",
       "      <td>[[Edge-Ring]]</td>\n",
       "    </tr>\n",
       "    <tr>\n",
       "      <th>811455</th>\n",
       "      <td>[[0, 0, 0, 0, 0, 0, 0, 0, 0, 0, 0, 1, 1, 1, 1,...</td>\n",
       "      <td>600.0</td>\n",
       "      <td>lot47543</td>\n",
       "      <td>1.0</td>\n",
       "      <td>[]</td>\n",
       "      <td>[]</td>\n",
       "    </tr>\n",
       "    <tr>\n",
       "      <th>811456</th>\n",
       "      <td>[[0, 0, 0, 0, 0, 0, 0, 0, 0, 0, 0, 1, 2, 1, 1,...</td>\n",
       "      <td>600.0</td>\n",
       "      <td>lot47543</td>\n",
       "      <td>2.0</td>\n",
       "      <td>[]</td>\n",
       "      <td>[]</td>\n",
       "    </tr>\n",
       "  </tbody>\n",
       "</table>\n",
       "</div>"
      ],
      "text/plain": [
       "                                                 waferMap      ...          failureType\n",
       "811452  [[0, 0, 0, 0, 0, 0, 0, 0, 0, 0, 0, 1, 2, 1, 1,...      ...        [[Edge-Ring]]\n",
       "811453  [[0, 0, 0, 0, 0, 0, 0, 0, 0, 0, 0, 2, 2, 1, 1,...      ...         [[Edge-Loc]]\n",
       "811454  [[0, 0, 0, 0, 0, 0, 0, 0, 0, 0, 0, 1, 2, 1, 1,...      ...        [[Edge-Ring]]\n",
       "811455  [[0, 0, 0, 0, 0, 0, 0, 0, 0, 0, 0, 1, 1, 1, 1,...      ...                   []\n",
       "811456  [[0, 0, 0, 0, 0, 0, 0, 0, 0, 0, 0, 1, 2, 1, 1,...      ...                   []\n",
       "\n",
       "[5 rows x 6 columns]"
      ]
     },
     "execution_count": 4,
     "metadata": {},
     "output_type": "execute_result"
    }
   ],
   "source": [
    "df.tail()"
   ]
  },
  {
   "cell_type": "markdown",
   "metadata": {
    "_cell_guid": "52208541-773a-45f5-be24-899d039d9b2f",
    "_uuid": "618dde07841b5a5f405082bdcdec0ddd25f2d7d2"
   },
   "source": [
    "* The dataset were collected from **47,543 lots** in real-world fab. However, **47,543 lots x 25 wafer/lot =1,157,325 wafer maps ** is larger than **811,457 wafer maps**. \n",
    "\n",
    "* Let's see what happened. "
   ]
  },
  {
   "cell_type": "code",
   "execution_count": 5,
   "metadata": {
    "_cell_guid": "6f939db7-e348-418c-bad1-596881441789",
    "_uuid": "b2dcf6fdd761ba3782b88a45f5592df200bd35ba"
   },
   "outputs": [
    {
     "data": {
      "image/png": "[encoded data removed]",
      "text/plain": [
       "<Figure size 432x288 with 1 Axes>"
      ]
     },
     "metadata": {},
     "output_type": "display_data"
    }
   ],
   "source": [
    "import matplotlib.pyplot as plt\n",
    "%matplotlib inline\n",
    "\n",
    "\n",
    "uni_Index=np.unique(df.waferIndex, return_counts=True)\n",
    "plt.bar(uni_Index[0],uni_Index[1], color='gold', align='center', alpha=0.5)\n",
    "plt.title(\" wafer Index distribution\")\n",
    "plt.xlabel(\"index #\")\n",
    "plt.ylabel(\"frequency\")\n",
    "plt.xlim(0,26)\n",
    "plt.ylim(30000,34000)\n",
    "plt.show()"
   ]
  },
  {
   "cell_type": "markdown",
   "metadata": {
    "_cell_guid": "214e64f2-f6bb-4e24-ba37-8fbb38a16783",
    "_uuid": "9557dd2de53306c5067375d07bb436b32aaa2d8a"
   },
   "source": [
    "* The figure shows that not all lots have perfect 25 wafer maps and it may caused by **sensor failure** or other unknown problems.\n",
    "\n",
    "* Fortunately, we do not need wafer index feature in our classification so we can just drop the variable. "
   ]
  },
  {
   "cell_type": "code",
   "execution_count": 6,
   "metadata": {
    "_cell_guid": "b9b24bdd-8fb9-463e-bf28-c4ebeed7ae4d",
    "_uuid": "652a9c89d538962295917acbfcde37a88b7337f1"
   },
   "outputs": [],
   "source": [
    "df = df.drop(['waferIndex'], axis = 1)"
   ]
  },
  {
   "cell_type": "markdown",
   "metadata": {
    "_cell_guid": "e86335f3-3638-4b36-8bca-9b0ec737523d",
    "_uuid": "628531a50954a68c3abb6519ac7f7f4c294fa20b"
   },
   "source": [
    "* We can not get much information from the wafer map column but we can see the die size for each instance is different. \n",
    "\n",
    "* We create a new variable **'waferMapDim'** for wafer map dim checking.\n"
   ]
  },
  {
   "cell_type": "code",
   "execution_count": 7,
   "metadata": {
    "_cell_guid": "846afbcf-dc89-4f69-9def-512eaa64b533",
    "_uuid": "a06d8b69be3752f5035e6ca1ffe841e0c9a761ad"
   },
   "outputs": [
    {
     "data": {
      "text/html": [
       "<div>\n",
       "<style scoped>\n",
       "    .dataframe tbody tr th:only-of-type {\n",
       "        vertical-align: middle;\n",
       "    }\n",
       "\n",
       "    .dataframe tbody tr th {\n",
       "        vertical-align: top;\n",
       "    }\n",
       "\n",
       "    .dataframe thead th {\n",
       "        text-align: right;\n",
       "    }\n",
       "</style>\n",
       "<table border=\"1\" class=\"dataframe\">\n",
       "  <thead>\n",
       "    <tr style=\"text-align: right;\">\n",
       "      <th></th>\n",
       "      <th>waferMap</th>\n",
       "      <th>dieSize</th>\n",
       "      <th>lotName</th>\n",
       "      <th>trianTestLabel</th>\n",
       "      <th>failureType</th>\n",
       "      <th>waferMapDim</th>\n",
       "    </tr>\n",
       "  </thead>\n",
       "  <tbody>\n",
       "    <tr>\n",
       "      <th>701495</th>\n",
       "      <td>[[0, 0, 0, 0, 0, 0, 0, 0, 0, 0, 0, 0, 1, 2, 2,...</td>\n",
       "      <td>516.0</td>\n",
       "      <td>lot43084</td>\n",
       "      <td>[[Training]]</td>\n",
       "      <td>[[none]]</td>\n",
       "      <td>(25, 27)</td>\n",
       "    </tr>\n",
       "    <tr>\n",
       "      <th>308845</th>\n",
       "      <td>[[0, 0, 0, 0, 0, 0, 0, 0, 0, 0, 0, 0, 0, 0, 1,...</td>\n",
       "      <td>1139.0</td>\n",
       "      <td>lot18812</td>\n",
       "      <td>[]</td>\n",
       "      <td>[]</td>\n",
       "      <td>(38, 38)</td>\n",
       "    </tr>\n",
       "    <tr>\n",
       "      <th>252031</th>\n",
       "      <td>[[0, 0, 0, 0, 0, 0, 0, 0, 0, 0, 1, 1, 1, 1, 1,...</td>\n",
       "      <td>518.0</td>\n",
       "      <td>lot15634</td>\n",
       "      <td>[[Training]]</td>\n",
       "      <td>[[none]]</td>\n",
       "      <td>(25, 26)</td>\n",
       "    </tr>\n",
       "    <tr>\n",
       "      <th>10306</th>\n",
       "      <td>[[0, 0, 0, 0, 0, 0, 0, 0, 0, 0, 0, 0, 0, 0, 0,...</td>\n",
       "      <td>2268.0</td>\n",
       "      <td>lot1909</td>\n",
       "      <td>[]</td>\n",
       "      <td>[]</td>\n",
       "      <td>(52, 55)</td>\n",
       "    </tr>\n",
       "    <tr>\n",
       "      <th>229084</th>\n",
       "      <td>[[0, 0, 0, 0, 0, 0, 0, 0, 0, 0, 0, 0, 0, 0, 0,...</td>\n",
       "      <td>5633.0</td>\n",
       "      <td>lot14361</td>\n",
       "      <td>[]</td>\n",
       "      <td>[]</td>\n",
       "      <td>(88, 81)</td>\n",
       "    </tr>\n",
       "  </tbody>\n",
       "</table>\n",
       "</div>"
      ],
      "text/plain": [
       "                                                 waferMap     ...       waferMapDim\n",
       "701495  [[0, 0, 0, 0, 0, 0, 0, 0, 0, 0, 0, 0, 1, 2, 2,...     ...          (25, 27)\n",
       "308845  [[0, 0, 0, 0, 0, 0, 0, 0, 0, 0, 0, 0, 0, 0, 1,...     ...          (38, 38)\n",
       "252031  [[0, 0, 0, 0, 0, 0, 0, 0, 0, 0, 1, 1, 1, 1, 1,...     ...          (25, 26)\n",
       "10306   [[0, 0, 0, 0, 0, 0, 0, 0, 0, 0, 0, 0, 0, 0, 0,...     ...          (52, 55)\n",
       "229084  [[0, 0, 0, 0, 0, 0, 0, 0, 0, 0, 0, 0, 0, 0, 0,...     ...          (88, 81)\n",
       "\n",
       "[5 rows x 6 columns]"
      ]
     },
     "execution_count": 7,
     "metadata": {},
     "output_type": "execute_result"
    }
   ],
   "source": [
    "def find_dim(x):\n",
    "    dim0=np.size(x,axis=0)\n",
    "    dim1=np.size(x,axis=1)\n",
    "    return dim0,dim1\n",
    "df['waferMapDim']=df.waferMap.apply(find_dim)\n",
    "df.sample(5)"
   ]
  },
  {
   "cell_type": "markdown",
   "metadata": {
    "_uuid": "086c1b71572f6fd53125b678c36a09b70f5b78e5"
   },
   "source": [
    "## Get sub wafer with specific resolution.\n",
    "get wafers have (26, 26) resolution. rarrange wafer nd-array with fautly case label.<br>\n",
    "some wafer has null label, skip it."
   ]
  },
  {
   "cell_type": "code",
   "execution_count": 8,
   "metadata": {
    "_uuid": "fa9606d1040c197ad78c7555e6068ed53efe4fd7"
   },
   "outputs": [],
   "source": [
    "sub_df = df.loc[df['waferMapDim'] == (26, 26)]\n",
    "sub_wafer = sub_df['waferMap'].values\n",
    "\n",
    "sw = np.ones((1, 26, 26))\n",
    "label = list()\n",
    "\n",
    "for i in range(len(sub_df)):\n",
    "    # skip null label\n",
    "    if len(sub_df.iloc[i,:]['failureType']) == 0:\n",
    "        continue\n",
    "    sw = np.concatenate((sw, sub_df.iloc[i,:]['waferMap'].reshape(1, 26, 26)))\n",
    "    label.append(sub_df.iloc[i,:]['failureType'][0][0])"
   ]
  },
  {
   "cell_type": "code",
   "execution_count": 9,
   "metadata": {
    "_uuid": "5765b78a2511d60df7b26ba1c92f23adea0af8f3"
   },
   "outputs": [],
   "source": [
    "x = sw[1:]\n",
    "y = np.array(label).reshape((-1,1))"
   ]
  },
  {
   "cell_type": "code",
   "execution_count": 10,
   "metadata": {},
   "outputs": [],
   "source": [
    "mask_x = np.zeros((24, 24))\n",
    "dummy_x = cv2.resize(x[0], (24,24))\n",
    "mask_x[dummy_x == 1] = 1 \n",
    "mask_x[dummy_x == 2] = 1 \n",
    "mask_x = mask_x.reshape((1, 24,24))"
   ]
  },
  {
   "cell_type": "code",
   "execution_count": 11,
   "metadata": {
    "_uuid": "3661e44b7a4a26623a4df3ad0a510ccef4c1f1c0"
   },
   "outputs": [
    {
     "name": "stdout",
     "output_type": "stream",
     "text": [
      "x shape : (14366, 26, 26), y shape : (14366, 1)\n"
     ]
    }
   ],
   "source": [
    "# check dimension\n",
    "print('x shape : {}, y shape : {}'.format(x.shape, y.shape))"
   ]
  },
  {
   "cell_type": "markdown",
   "metadata": {
    "_uuid": "ca2f81247e530991918c44fb2e38a56b01493f00"
   },
   "source": [
    "plot 1st data for check."
   ]
  },
  {
   "cell_type": "code",
   "execution_count": 12,
   "metadata": {
    "_uuid": "26ce470baf87a73737b28792e8de5990c8d40d1f"
   },
   "outputs": [
    {
     "data": {
      "image/png": "[encoded data removed]",
      "text/plain": [
       "<Figure size 432x288 with 1 Axes>"
      ]
     },
     "metadata": {},
     "output_type": "display_data"
    },
    {
     "name": "stdout",
     "output_type": "stream",
     "text": [
      "Faulty case : ['none'] \n"
     ]
    }
   ],
   "source": [
    "# plot 1st data\n",
    "plt.imshow(x[0])\n",
    "plt.show()\n",
    "\n",
    "# check faulty case\n",
    "print('Faulty case : {} '.format(y[0]))"
   ]
  },
  {
   "cell_type": "markdown",
   "metadata": {
    "_uuid": "f7714e354e0a9f386112623c1a1c1bd8ee301fa8"
   },
   "source": [
    "We will use 2D Convolutional Autoencoder, extend dimension for channel."
   ]
  },
  {
   "cell_type": "code",
   "execution_count": 13,
   "metadata": {
    "_uuid": "f4b488120f5dac6244746461863227305e0ce818"
   },
   "outputs": [],
   "source": [
    "#add channel\n",
    "x = x.reshape((-1, 26, 26, 1))"
   ]
  },
  {
   "cell_type": "markdown",
   "metadata": {
    "_uuid": "349017c33b1b3cac4003eeee862cee110285c42e"
   },
   "source": [
    "Make faulty case list, and check how classes imbalanced."
   ]
  },
  {
   "cell_type": "code",
   "execution_count": 14,
   "metadata": {
    "_uuid": "061124b48c79ec4e0255a64664abb37dbbfdf163"
   },
   "outputs": [
    {
     "name": "stdout",
     "output_type": "stream",
     "text": [
      "Faulty case list : ['Center' 'Donut' 'Edge-Loc' 'Edge-Ring' 'Loc' 'Near-full' 'Random'\n",
      " 'Scratch' 'none']\n"
     ]
    }
   ],
   "source": [
    "faulty_case = np.unique(y)\n",
    "print('Faulty case list : {}'.format(faulty_case))"
   ]
  },
  {
   "cell_type": "code",
   "execution_count": 15,
   "metadata": {},
   "outputs": [],
   "source": [
    "faulty_case_dict =dict()"
   ]
  },
  {
   "cell_type": "code",
   "execution_count": 16,
   "metadata": {
    "_uuid": "85080e6018ed8b1e1e68dbcdf6177fb7a8a92213"
   },
   "outputs": [
    {
     "name": "stdout",
     "output_type": "stream",
     "text": [
      "Center : 90\n",
      "Donut : 1\n",
      "Edge-Loc : 296\n",
      "Edge-Ring : 31\n",
      "Loc : 297\n",
      "Near-full : 16\n",
      "Random : 74\n",
      "Scratch : 72\n",
      "none : 13489\n"
     ]
    }
   ],
   "source": [
    "for i, f in enumerate(faulty_case) :\n",
    "    print('{} : {}'.format(f, len(y[y==f])))\n",
    "    faulty_case_dict[i] = f"
   ]
  },
  {
   "cell_type": "markdown",
   "metadata": {
    "_uuid": "54fe282fe0dfc4823f9edd973236530b096c01b8"
   },
   "source": [
    "Wafer data's each pixels have a categorical variable that express 0 : not wafer, 1 : normal, 2 : faulty. <br>\n",
    "Extend extra dimension with one-hot-encoded categorical data as channel. <br>\n",
    "**that idea from Data Science & Business Analytics Lab, School of Industrial Management Engineering, College of Engineering, Korea University**[http://dsba.korea.ac.kr/main]"
   ]
  },
  {
   "cell_type": "code",
   "execution_count": 17,
   "metadata": {
    "_uuid": "f1699363f1a073612e7255c0b93414f208827c1d"
   },
   "outputs": [],
   "source": [
    "# One-hot-Encoding faulty categorical variable as channel\n",
    "new_x = np.zeros((len(x), 26, 26, 3))\n",
    "\n",
    "for w in range(len(x)):\n",
    "    for i in range(26):\n",
    "        for j in range(26):\n",
    "            new_x[w, i, j, int(x[w, i, j])] = 1"
   ]
  },
  {
   "cell_type": "code",
   "execution_count": 18,
   "metadata": {
    "_uuid": "54554a909fb719de0ca277fcf693f4bed416dbc2"
   },
   "outputs": [
    {
     "data": {
      "text/plain": [
       "(14366, 26, 26, 3)"
      ]
     },
     "execution_count": 18,
     "metadata": {},
     "output_type": "execute_result"
    }
   ],
   "source": [
    "#check new x dimension\n",
    "new_x.shape"
   ]
  },
  {
   "cell_type": "markdown",
   "metadata": {
    "_uuid": "5330346f0dccf25331724403406c0e848541fb9a"
   },
   "source": [
    "## Convolutional Autoencoder for augmentation.\n",
    "As solving class imbalanced problem, we need for data augmentation. <br>\n",
    "The wafer data is image data. so we use convolutional autoencoder."
   ]
  },
  {
   "cell_type": "code",
   "execution_count": 19,
   "metadata": {
    "_uuid": "3974e475616075ece755eef50175a8c601cb81d5"
   },
   "outputs": [],
   "source": [
    "# parameter\n",
    "epoch=15\n",
    "batch_size=1024"
   ]
  },
  {
   "cell_type": "code",
   "execution_count": 20,
   "metadata": {
    "_uuid": "cb0d95ec105b12c0c4826aa60b891cf4dd8fe127"
   },
   "outputs": [
    {
     "name": "stdout",
     "output_type": "stream",
     "text": [
      "WARNING:tensorflow:From /opt/conda/lib/python3.6/site-packages/tensorflow/python/framework/op_def_library.py:263: colocate_with (from tensorflow.python.framework.ops) is deprecated and will be removed in a future version.\n",
      "Instructions for updating:\n",
      "Colocations handled automatically by placer.\n"
     ]
    }
   ],
   "source": [
    "# Encoder\n",
    "input_shape = (26, 26, 3)\n",
    "input_tensor = Input(input_shape)\n",
    "encode = layers.Conv2D(64, (3,3), padding='same', activation='relu')(input_tensor)\n",
    "\n",
    "latent_vector = layers.MaxPool2D()(encode)\n",
    "\n",
    "# Decoder\n",
    "decode_layer_1 = layers.Conv2DTranspose(64, (3,3), padding='same', activation='relu')\n",
    "decode_layer_2 = layers.UpSampling2D()\n",
    "output_tensor = layers.Conv2DTranspose(3, (3,3), padding='same', activation='sigmoid')\n",
    "\n",
    "# connect decoder layers\n",
    "decode = decode_layer_1(latent_vector)\n",
    "decode = decode_layer_2(decode)\n",
    "\n",
    "ae = models.Model(input_tensor, output_tensor(decode))\n",
    "ae.compile(optimizer = 'Adam',\n",
    "              loss = 'mse',\n",
    "             )"
   ]
  },
  {
   "cell_type": "markdown",
   "metadata": {
    "_uuid": "99fbcd6bc3cd661d67ca0aba0f08a4cabcfee3ae"
   },
   "source": [
    "Check summary"
   ]
  },
  {
   "cell_type": "code",
   "execution_count": 21,
   "metadata": {
    "_uuid": "4b89d14eb19b52c6ade0e6d7e854d0d51fb6fef4"
   },
   "outputs": [
    {
     "name": "stdout",
     "output_type": "stream",
     "text": [
      "_________________________________________________________________\n",
      "Layer (type)                 Output Shape              Param #   \n",
      "=================================================================\n",
      "input_1 (InputLayer)         (None, 26, 26, 3)         0         \n",
      "_________________________________________________________________\n",
      "conv2d_1 (Conv2D)            (None, 26, 26, 64)        1792      \n",
      "_________________________________________________________________\n",
      "max_pooling2d_1 (MaxPooling2 (None, 13, 13, 64)        0         \n",
      "_________________________________________________________________\n",
      "conv2d_transpose_1 (Conv2DTr (None, 13, 13, 64)        36928     \n",
      "_________________________________________________________________\n",
      "up_sampling2d_1 (UpSampling2 (None, 26, 26, 64)        0         \n",
      "_________________________________________________________________\n",
      "conv2d_transpose_2 (Conv2DTr (None, 26, 26, 3)         1731      \n",
      "=================================================================\n",
      "Total params: 40,451\n",
      "Trainable params: 40,451\n",
      "Non-trainable params: 0\n",
      "_________________________________________________________________\n"
     ]
    }
   ],
   "source": [
    "ae.summary()"
   ]
  },
  {
   "cell_type": "code",
   "execution_count": 22,
   "metadata": {
    "_uuid": "5c8bcfb8e722a01cad99fe87bb60ec40fe2c21b6"
   },
   "outputs": [
    {
     "name": "stdout",
     "output_type": "stream",
     "text": [
      "WARNING:tensorflow:From /opt/conda/lib/python3.6/site-packages/tensorflow/python/ops/math_ops.py:3066: to_int32 (from tensorflow.python.ops.math_ops) is deprecated and will be removed in a future version.\n",
      "Instructions for updating:\n",
      "Use tf.cast instead.\n",
      "Epoch 1/15\n",
      " - 5s - loss: 0.1519\n",
      "Epoch 2/15\n",
      " - 1s - loss: 0.0949\n",
      "Epoch 3/15\n",
      " - 1s - loss: 0.0834\n",
      "Epoch 4/15\n",
      " - 1s - loss: 0.0724\n",
      "Epoch 5/15\n",
      " - 1s - loss: 0.0634\n",
      "Epoch 6/15\n",
      " - 1s - loss: 0.0562\n",
      "Epoch 7/15\n",
      " - 1s - loss: 0.0504\n",
      "Epoch 8/15\n",
      " - 1s - loss: 0.0456\n",
      "Epoch 9/15\n",
      " - 1s - loss: 0.0409\n",
      "Epoch 10/15\n",
      " - 1s - loss: 0.0363\n",
      "Epoch 11/15\n",
      " - 1s - loss: 0.0321\n",
      "Epoch 12/15\n",
      " - 1s - loss: 0.0287\n",
      "Epoch 13/15\n",
      " - 1s - loss: 0.0259\n",
      "Epoch 14/15\n",
      " - 1s - loss: 0.0235\n",
      "Epoch 15/15\n",
      " - 1s - loss: 0.0216\n"
     ]
    },
    {
     "data": {
      "text/plain": [
       "<keras.callbacks.History at 0x7ff777561da0>"
      ]
     },
     "execution_count": 22,
     "metadata": {},
     "output_type": "execute_result"
    }
   ],
   "source": [
    "# start train\n",
    "ae.fit(new_x, new_x,\n",
    "       batch_size=batch_size,\n",
    "       epochs=epoch,\n",
    "       verbose=2)"
   ]
  },
  {
   "cell_type": "code",
   "execution_count": 23,
   "metadata": {
    "_uuid": "4359826557dd331ca953b6aae44641f77261c88e"
   },
   "outputs": [],
   "source": [
    "# Make encoder model with part of autoencoder model layers\n",
    "encoder = models.Model(input_tensor, latent_vector)"
   ]
  },
  {
   "cell_type": "code",
   "execution_count": 24,
   "metadata": {
    "_uuid": "ce51970c9636ecee088e2f2bc30c0dcce492dfd6"
   },
   "outputs": [],
   "source": [
    "# Make decoder model with part of autoencoder model layers\n",
    "decoder_input = Input((13, 13, 64))\n",
    "decode = decode_layer_1(decoder_input)\n",
    "decode = decode_layer_2(decode)\n",
    "\n",
    "decoder = models.Model(decoder_input, output_tensor(decode))"
   ]
  },
  {
   "cell_type": "code",
   "execution_count": 25,
   "metadata": {
    "_uuid": "cfc1e4750471ef19c4858f29ace428b261596e8f"
   },
   "outputs": [],
   "source": [
    "# Encode original faulty wafer\n",
    "encoded_x = encoder.predict(new_x)"
   ]
  },
  {
   "cell_type": "code",
   "execution_count": 26,
   "metadata": {
    "_uuid": "cca7e49fc3a5e8206b913f46391f4518b3785274"
   },
   "outputs": [],
   "source": [
    "# Add noise to encoded latent faulty wafers vector.\n",
    "noised_encoded_x = encoded_x + np.random.normal(loc=0, scale=0.1, size = (len(encoded_x), 13, 13, 64))"
   ]
  },
  {
   "cell_type": "code",
   "execution_count": 27,
   "metadata": {
    "_uuid": "bbc99179f3b90b7ba62e3e13db80cd9adb7b8a58"
   },
   "outputs": [
    {
     "data": {
      "text/plain": [
       "<matplotlib.image.AxesImage at 0x7ff7744ce550>"
      ]
     },
     "execution_count": 27,
     "metadata": {},
     "output_type": "execute_result"
    },
    {
     "data": {
      "image/png": "[encoded data removed]",
      "text/plain": [
       "<Figure size 432x288 with 1 Axes>"
      ]
     },
     "metadata": {},
     "output_type": "display_data"
    }
   ],
   "source": [
    "# check original faulty wafer data\n",
    "plt.imshow(np.argmax(new_x[3], axis=2))"
   ]
  },
  {
   "cell_type": "code",
   "execution_count": 28,
   "metadata": {
    "_uuid": "2c34d09b64151c01c6dfd29c33621fb31c666ade"
   },
   "outputs": [
    {
     "data": {
      "text/plain": [
       "<matplotlib.image.AxesImage at 0x7ff77463d080>"
      ]
     },
     "execution_count": 28,
     "metadata": {},
     "output_type": "execute_result"
    },
    {
     "data": {
      "image/png": "[encoded data removed]",
      "text/plain": [
       "<Figure size 432x288 with 1 Axes>"
      ]
     },
     "metadata": {},
     "output_type": "display_data"
    }
   ],
   "source": [
    "# check new noised faulty wafer data\n",
    "noised_gen_x = np.argmax(decoder.predict(noised_encoded_x), axis=3)\n",
    "plt.imshow(noised_gen_x[3])"
   ]
  },
  {
   "cell_type": "code",
   "execution_count": 29,
   "metadata": {
    "_uuid": "e4c959ab36890c361c92b9a4616ca8fb60a2ded4"
   },
   "outputs": [
    {
     "data": {
      "text/plain": [
       "<matplotlib.image.AxesImage at 0x7ff7747d9d68>"
      ]
     },
     "execution_count": 29,
     "metadata": {},
     "output_type": "execute_result"
    },
    {
     "data": {
      "image/png": "[encoded data removed]",
      "text/plain": [
       "<Figure size 432x288 with 1 Axes>"
      ]
     },
     "metadata": {},
     "output_type": "display_data"
    }
   ],
   "source": [
    "# check reconstructed original faulty wafer data\n",
    "gen_x = np.argmax(ae.predict(new_x), axis=3)\n",
    "plt.imshow(gen_x[3])"
   ]
  },
  {
   "cell_type": "markdown",
   "metadata": {
    "_uuid": "c29236b3ac68761abb4458fd9bf0138fadb86ab7"
   },
   "source": [
    "## Data augmentation\n",
    "We made convolutional autoencoder model for data augmentation.<br>\n",
    "I just want data has 2000 samples for each case. Let's augment data for all faulty case."
   ]
  },
  {
   "cell_type": "code",
   "execution_count": 30,
   "metadata": {
    "_uuid": "53185d9b371ab1719c7738acb3f391ebb4c731a4"
   },
   "outputs": [],
   "source": [
    "# augment function define\n",
    "def gen_data(wafer, label):\n",
    "    # Encode input wafer\n",
    "    encoded_x = encoder.predict(wafer)\n",
    "    \n",
    "    # dummy array for collecting noised wafer\n",
    "    gen_x = np.zeros((1, 26, 26, 3))\n",
    "    \n",
    "    # Make wafer until total # of wafer to 2000\n",
    "    for i in range((2000//len(wafer)) + 1):\n",
    "        noised_encoded_x = encoded_x + np.random.normal(loc=0, scale=0.1, size = (len(encoded_x), 13, 13, 64)) \n",
    "        noised_gen_x = decoder.predict(noised_encoded_x)\n",
    "        gen_x = np.concatenate((gen_x, noised_gen_x), axis=0)\n",
    "    # also make label vector with same length\n",
    "    gen_y = np.full((len(gen_x), 1), label)\n",
    "    \n",
    "    # return date without 1st dummy data.\n",
    "    return gen_x[1:], gen_y[1:]"
   ]
  },
  {
   "cell_type": "code",
   "execution_count": 31,
   "metadata": {
    "_uuid": "feafb17181cc20ae48402d75789f241d1ae7a5df"
   },
   "outputs": [],
   "source": [
    "# Augmentation for all faulty case.\n",
    "for f in faulty_case : \n",
    "    # skip none case\n",
    "    if f == 'none' : \n",
    "        continue\n",
    "    \n",
    "    gen_x, gen_y = gen_data(new_x[np.where(y==f)[0]], f)\n",
    "    new_x = np.concatenate((new_x, gen_x), axis=0)\n",
    "    y = np.concatenate((y, gen_y))"
   ]
  },
  {
   "cell_type": "code",
   "execution_count": 32,
   "metadata": {
    "_uuid": "312ccd58ce0419f36b8b45aa6a5c3b6992e7045c"
   },
   "outputs": [
    {
     "name": "stdout",
     "output_type": "stream",
     "text": [
      "After Generate new_x shape : (30707, 26, 26, 3), new_y shape : (30707, 1)\n"
     ]
    }
   ],
   "source": [
    "print('After Generate new_x shape : {}, new_y shape : {}'.format(new_x.shape, y.shape))"
   ]
  },
  {
   "cell_type": "code",
   "execution_count": 33,
   "metadata": {
    "_uuid": "6eae1b2b5ea63bbd6ff0f6e10e33377b59ff26c7"
   },
   "outputs": [
    {
     "name": "stdout",
     "output_type": "stream",
     "text": [
      "Center : 2160\n",
      "Donut : 2002\n",
      "Edge-Loc : 2368\n",
      "Edge-Ring : 2046\n",
      "Loc : 2376\n",
      "Near-full : 2032\n",
      "Random : 2146\n",
      "Scratch : 2088\n",
      "none : 13489\n"
     ]
    }
   ],
   "source": [
    "for f in faulty_case :\n",
    "    print('{} : {}'.format(f, len(y[y==f])))"
   ]
  },
  {
   "cell_type": "code",
   "execution_count": 34,
   "metadata": {
    "_uuid": "2c8e55735742f478c4bdbc182cb2cca289c61be6"
   },
   "outputs": [],
   "source": [
    "# choice index without replace.\n",
    "none_idx = np.where(y=='none')[0][np.random.choice(len(np.where(y=='none')[0]), size=11000, replace=False)]"
   ]
  },
  {
   "cell_type": "code",
   "execution_count": 35,
   "metadata": {
    "_uuid": "176736aa682e1865b5c9224abcc497100c07da2c"
   },
   "outputs": [],
   "source": [
    "# delete choiced index data.\n",
    "new_x = np.delete(new_x, none_idx, axis=0)\n",
    "new_y = np.delete(y, none_idx, axis=0)"
   ]
  },
  {
   "cell_type": "code",
   "execution_count": 36,
   "metadata": {
    "_uuid": "984ca3aab008480e2a559d221edb97471b9d20d4"
   },
   "outputs": [
    {
     "name": "stdout",
     "output_type": "stream",
     "text": [
      "After Delete \"none\" class new_x shape : (19707, 26, 26, 3), new_y shape : (19707, 1)\n"
     ]
    }
   ],
   "source": [
    "print('After Delete \"none\" class new_x shape : {}, new_y shape : {}'.format(new_x.shape, new_y.shape))"
   ]
  },
  {
   "cell_type": "code",
   "execution_count": 37,
   "metadata": {
    "_uuid": "f25df666116dad97d9437c632b9f4706fbb36589"
   },
   "outputs": [
    {
     "name": "stdout",
     "output_type": "stream",
     "text": [
      "Center : 2160\n",
      "Donut : 2002\n",
      "Edge-Loc : 2368\n",
      "Edge-Ring : 2046\n",
      "Loc : 2376\n",
      "Near-full : 2032\n",
      "Random : 2146\n",
      "Scratch : 2088\n",
      "none : 2489\n"
     ]
    }
   ],
   "source": [
    "for f in faulty_case :\n",
    "    print('{} : {}'.format(f, len(new_y[new_y==f])))"
   ]
  },
  {
   "cell_type": "code",
   "execution_count": 38,
   "metadata": {
    "_uuid": "8959d413d2ccd403c892a80781669bcd6d77fe16"
   },
   "outputs": [],
   "source": [
    "# make string label data to numerical data\n",
    "for i, l in enumerate(faulty_case):\n",
    "    new_y[new_y==l] = i\n",
    "    \n",
    "# one-hot-encoding\n",
    "new_y = to_categorical(new_y)"
   ]
  },
  {
   "cell_type": "code",
   "execution_count": 39,
   "metadata": {
    "_uuid": "45c97eb59ee98522979105b6b1b127461a2c235b"
   },
   "outputs": [],
   "source": [
    "# split data train, test\n",
    "x_train, x_test, y_train, y_test = train_test_split(new_x, new_y,\n",
    "                                                    test_size=0.33,\n",
    "                                                    random_state=2019)"
   ]
  },
  {
   "cell_type": "code",
   "execution_count": 40,
   "metadata": {
    "_uuid": "a3bf28ea7c89ff2e8045ae48ec38f01c71cfa32f"
   },
   "outputs": [
    {
     "name": "stdout",
     "output_type": "stream",
     "text": [
      "Train x : (13203, 26, 26, 3), y : (13203, 9)\n",
      "Test x: (6504, 26, 26, 3), y : (6504, 9)\n"
     ]
    }
   ],
   "source": [
    "print('Train x : {}, y : {}'.format(x_train.shape, y_train.shape))\n",
    "print('Test x: {}, y : {}'.format(x_test.shape, y_test.shape))"
   ]
  },
  {
   "cell_type": "markdown",
   "metadata": {
    "_uuid": "206ec6d48e82929feec03202705e2d346a29f9c9"
   },
   "source": [
    "## Class Activation Map Model\n",
    "The data is ready. As wafer data is image. simply use cnn for classification.<br>\n",
    "\n",
    "### Make model\n",
    "define create model function, because we will validate model with sklearn kfold cross validation."
   ]
  },
  {
   "cell_type": "code",
   "execution_count": 41,
   "metadata": {
    "_uuid": "33c6ab94582373f7d6e7061639c503f0a0311877"
   },
   "outputs": [],
   "source": [
    "input_shape = (26, 26, 3)\n",
    "input_tensor = Input(input_shape)\n",
    "\n",
    "def create_model():\n",
    "    global input_tensor\n",
    "    \n",
    "    conv = layers.Conv2D(32, (3,3), activation='relu', name='conv1')(input_tensor)\n",
    "    padding = layers.ZeroPadding2D(padding=(1, 1), name='padding1')(conv)\n",
    "    conv = layers.Conv2D(64, (3,3), activation='relu', name='conv2')(padding)\n",
    "    padding = layers.ZeroPadding2D(padding=(1, 1), name='padding2')(conv)\n",
    "    conv = layers.Conv2D(128, (3,3), activation='relu', name='conv3')(padding)\n",
    "    padding = layers.ZeroPadding2D(padding=(1, 1), name='padding3')(conv)\n",
    "    conv_out = layers.Conv2D(256, (3,3), activation='relu', name='conv4')(padding)\n",
    "\n",
    "    gap_layer = layers.GlobalAveragePooling2D(name='GAP')\n",
    "    output_layer = layers.Dense(9, activation='softmax', name='output')\n",
    "\n",
    "    aver_pool = gap_layer(conv_out)\n",
    "    output_tensor = output_layer(aver_pool)\n",
    "\n",
    "    model = models.Model(input_tensor, output_tensor)\n",
    "\n",
    "    model.compile(optimizer='Adam',\n",
    "             loss='categorical_crossentropy',\n",
    "             metrics=['accuracy'])\n",
    "\n",
    "    return model"
   ]
  },
  {
   "cell_type": "markdown",
   "metadata": {
    "_uuid": "5811613cd83778f3a2a7aa28a47c362cedbe713f"
   },
   "source": [
    "### Cross validate model\n",
    "Using sklearn KFold Cross validation, we validate our simple cnn."
   ]
  },
  {
   "cell_type": "code",
   "execution_count": 42,
   "metadata": {
    "_uuid": "529c16500f9f80e47f6b4e4ccbfa6c40c6d942e6"
   },
   "outputs": [
    {
     "name": "stdout",
     "output_type": "stream",
     "text": [
      "Epoch 1/10\n",
      " - 4s - loss: 1.9540 - acc: 0.2496\n",
      "Epoch 2/10\n",
      " - 1s - loss: 1.4262 - acc: 0.4221\n",
      "Epoch 3/10\n",
      " - 1s - loss: 1.3113 - acc: 0.4802\n",
      "Epoch 4/10\n",
      " - 1s - loss: 1.2073 - acc: 0.5174\n",
      "Epoch 5/10\n",
      " - 1s - loss: 1.1383 - acc: 0.5477\n",
      "Epoch 6/10\n",
      " - 1s - loss: 1.0533 - acc: 0.5854\n",
      "Epoch 7/10\n",
      " - 1s - loss: 0.9882 - acc: 0.6225\n",
      "Epoch 8/10\n",
      " - 1s - loss: 0.9442 - acc: 0.6317\n",
      "Epoch 9/10\n",
      " - 1s - loss: 0.8902 - acc: 0.6658\n",
      "Epoch 10/10\n",
      " - 1s - loss: 0.8692 - acc: 0.6709\n",
      "Epoch 1/10\n",
      " - 2s - loss: 1.9028 - acc: 0.2850\n",
      "Epoch 2/10\n",
      " - 1s - loss: 1.4078 - acc: 0.4240\n",
      "Epoch 3/10\n",
      " - 1s - loss: 1.2937 - acc: 0.4660\n",
      "Epoch 4/10\n",
      " - 1s - loss: 1.2071 - acc: 0.4926\n",
      "Epoch 5/10\n",
      " - 1s - loss: 1.1343 - acc: 0.5464\n",
      "Epoch 6/10\n",
      " - 1s - loss: 1.0865 - acc: 0.5805\n",
      "Epoch 7/10\n",
      " - 1s - loss: 1.0299 - acc: 0.6020\n",
      "Epoch 8/10\n",
      " - 1s - loss: 0.9818 - acc: 0.6220\n",
      "Epoch 9/10\n",
      " - 1s - loss: 0.9176 - acc: 0.6519\n",
      "Epoch 10/10\n",
      " - 1s - loss: 0.9856 - acc: 0.6292\n",
      "Epoch 1/10\n",
      " - 2s - loss: 1.8840 - acc: 0.2682\n",
      "Epoch 2/10\n",
      " - 1s - loss: 1.4086 - acc: 0.4139\n",
      "Epoch 3/10\n",
      " - 1s - loss: 1.3054 - acc: 0.4781\n",
      "Epoch 4/10\n",
      " - 1s - loss: 1.2394 - acc: 0.4961\n",
      "Epoch 5/10\n",
      " - 1s - loss: 1.1546 - acc: 0.5500\n",
      "Epoch 6/10\n",
      " - 1s - loss: 1.0907 - acc: 0.5609\n",
      "Epoch 7/10\n",
      " - 1s - loss: 1.0691 - acc: 0.5718\n",
      "Epoch 8/10\n",
      " - 1s - loss: 1.0041 - acc: 0.6262\n",
      "Epoch 9/10\n",
      " - 1s - loss: 0.9373 - acc: 0.6521\n",
      "Epoch 10/10\n",
      " - 1s - loss: 0.9239 - acc: 0.6651\n",
      "Class Activation Map Cross validation score : 0.6707\n"
     ]
    }
   ],
   "source": [
    "# Make keras model to sklearn classifier.\n",
    "model = KerasClassifier(build_fn=create_model, epochs=10, batch_size=1024, verbose=2) \n",
    "# 3-Fold Crossvalidation\n",
    "kfold = KFold(n_splits=3, shuffle=True, random_state=2019) \n",
    "results = cross_val_score(model, x_train, y_train, cv=kfold)\n",
    "# Check 3-fold model's mean accuracy\n",
    "print('Class Activation Map Cross validation score : {:.4f}'.format(np.mean(results)))"
   ]
  },
  {
   "cell_type": "markdown",
   "metadata": {
    "_uuid": "2672e64060160e345bab5fbcc27485d3bb28db03"
   },
   "source": [
    "Our model seems quite a good model."
   ]
  },
  {
   "cell_type": "code",
   "execution_count": 43,
   "metadata": {},
   "outputs": [
    {
     "name": "stdout",
     "output_type": "stream",
     "text": [
      "Train on 13203 samples, validate on 6504 samples\n",
      "Epoch 1/50\n",
      " - 4s - loss: 1.7632 - acc: 0.3036 - val_loss: 1.4077 - val_acc: 0.4185\n",
      "Epoch 2/50\n",
      " - 2s - loss: 1.3309 - acc: 0.4472 - val_loss: 1.2493 - val_acc: 0.4739\n",
      "Epoch 3/50\n",
      " - 2s - loss: 1.2094 - acc: 0.5186 - val_loss: 1.1275 - val_acc: 0.5753\n",
      "Epoch 4/50\n",
      " - 2s - loss: 1.1347 - acc: 0.5516 - val_loss: 1.0778 - val_acc: 0.5426\n",
      "Epoch 5/50\n",
      " - 2s - loss: 1.0598 - acc: 0.5759 - val_loss: 1.0107 - val_acc: 0.6313\n",
      "Epoch 6/50\n",
      " - 2s - loss: 0.9717 - acc: 0.6264 - val_loss: 0.8926 - val_acc: 0.6413\n",
      "Epoch 7/50\n",
      " - 2s - loss: 0.9035 - acc: 0.6402 - val_loss: 0.8467 - val_acc: 0.6574\n",
      "Epoch 8/50\n",
      " - 2s - loss: 0.8362 - acc: 0.6705 - val_loss: 0.7610 - val_acc: 0.7037\n",
      "Epoch 9/50\n",
      " - 2s - loss: 0.7783 - acc: 0.7011 - val_loss: 0.7384 - val_acc: 0.6980\n",
      "Epoch 10/50\n",
      " - 2s - loss: 0.7129 - acc: 0.7304 - val_loss: 0.6783 - val_acc: 0.7323\n",
      "Epoch 11/50\n",
      " - 2s - loss: 0.6771 - acc: 0.7310 - val_loss: 0.6465 - val_acc: 0.7352\n",
      "Epoch 12/50\n",
      " - 2s - loss: 0.6364 - acc: 0.7470 - val_loss: 0.6130 - val_acc: 0.7414\n",
      "Epoch 13/50\n",
      " - 2s - loss: 0.6067 - acc: 0.7649 - val_loss: 0.5901 - val_acc: 0.7609\n",
      "Epoch 14/50\n",
      " - 2s - loss: 0.5901 - acc: 0.7716 - val_loss: 0.5727 - val_acc: 0.7594\n",
      "Epoch 15/50\n",
      " - 2s - loss: 0.5706 - acc: 0.7714 - val_loss: 0.5506 - val_acc: 0.7817\n",
      "Epoch 16/50\n",
      " - 2s - loss: 0.6762 - acc: 0.7316 - val_loss: 0.7428 - val_acc: 0.7059\n",
      "Epoch 17/50\n",
      " - 2s - loss: 0.7071 - acc: 0.7250 - val_loss: 0.5977 - val_acc: 0.7663\n",
      "Epoch 18/50\n",
      " - 2s - loss: 0.5888 - acc: 0.7731 - val_loss: 0.5626 - val_acc: 0.7731\n",
      "Epoch 19/50\n",
      " - 2s - loss: 0.5504 - acc: 0.7835 - val_loss: 0.5302 - val_acc: 0.7866\n",
      "Epoch 20/50\n",
      " - 2s - loss: 0.5360 - acc: 0.7904 - val_loss: 0.5129 - val_acc: 0.7937\n",
      "Epoch 21/50\n",
      " - 2s - loss: 0.5169 - acc: 0.8004 - val_loss: 0.5030 - val_acc: 0.7898\n",
      "Epoch 22/50\n",
      " - 2s - loss: 0.5128 - acc: 0.7972 - val_loss: 0.5109 - val_acc: 0.7958\n",
      "Epoch 23/50\n",
      " - 2s - loss: 0.5127 - acc: 0.8034 - val_loss: 0.5015 - val_acc: 0.8063\n",
      "Epoch 24/50\n",
      " - 2s - loss: 1.0986 - acc: 0.7366 - val_loss: 2.3094 - val_acc: 0.6507\n",
      "Epoch 25/50\n",
      " - 2s - loss: 2.1965 - acc: 0.6741 - val_loss: 2.2639 - val_acc: 0.6747\n",
      "Epoch 26/50\n",
      " - 2s - loss: 2.1621 - acc: 0.6892 - val_loss: 2.2264 - val_acc: 0.6808\n",
      "Epoch 27/50\n",
      " - 2s - loss: 2.1370 - acc: 0.6951 - val_loss: 2.2405 - val_acc: 0.6822\n",
      "Epoch 28/50\n",
      " - 2s - loss: 2.1274 - acc: 0.7014 - val_loss: 2.1892 - val_acc: 0.6983\n",
      "Epoch 29/50\n",
      " - 2s - loss: 2.1092 - acc: 0.7156 - val_loss: 2.2039 - val_acc: 0.7051\n",
      "Epoch 30/50\n",
      " - 2s - loss: 2.1080 - acc: 0.7135 - val_loss: 2.1979 - val_acc: 0.6996\n",
      "Epoch 31/50\n",
      " - 2s - loss: 2.1033 - acc: 0.7138 - val_loss: 2.1777 - val_acc: 0.7065\n",
      "Epoch 32/50\n",
      " - 2s - loss: 2.1112 - acc: 0.7077 - val_loss: 2.2142 - val_acc: 0.6907\n",
      "Epoch 33/50\n",
      " - 2s - loss: 2.1001 - acc: 0.7166 - val_loss: 2.1805 - val_acc: 0.7077\n",
      "Epoch 34/50\n",
      " - 2s - loss: 2.0927 - acc: 0.7221 - val_loss: 2.1681 - val_acc: 0.7122\n",
      "Epoch 35/50\n",
      " - 2s - loss: 2.0820 - acc: 0.7242 - val_loss: 2.1892 - val_acc: 0.7013\n",
      "Epoch 36/50\n",
      " - 2s - loss: 2.0971 - acc: 0.7160 - val_loss: 2.1668 - val_acc: 0.7091\n",
      "Epoch 37/50\n",
      " - 2s - loss: 2.0917 - acc: 0.7195 - val_loss: 2.1952 - val_acc: 0.7060\n",
      "Epoch 38/50\n",
      " - 2s - loss: 2.0867 - acc: 0.7200 - val_loss: 2.2120 - val_acc: 0.6996\n",
      "Epoch 39/50\n",
      " - 2s - loss: 2.1010 - acc: 0.7126 - val_loss: 2.1659 - val_acc: 0.7010\n",
      "Epoch 40/50\n",
      " - 2s - loss: 2.0742 - acc: 0.7251 - val_loss: 2.1611 - val_acc: 0.7123\n",
      "Epoch 41/50\n",
      " - 2s - loss: 2.0631 - acc: 0.7354 - val_loss: 2.1434 - val_acc: 0.7242\n",
      "Epoch 42/50\n",
      " - 2s - loss: 2.0663 - acc: 0.7301 - val_loss: 2.1386 - val_acc: 0.7289\n",
      "Epoch 43/50\n",
      " - 2s - loss: 2.0616 - acc: 0.7357 - val_loss: 2.1402 - val_acc: 0.7343\n",
      "Epoch 44/50\n",
      " - 2s - loss: 2.0557 - acc: 0.7391 - val_loss: 2.1336 - val_acc: 0.7206\n",
      "Epoch 45/50\n",
      " - 2s - loss: 2.0567 - acc: 0.7321 - val_loss: 2.1442 - val_acc: 0.7263\n",
      "Epoch 46/50\n",
      " - 2s - loss: 2.0596 - acc: 0.7332 - val_loss: 2.1219 - val_acc: 0.7400\n",
      "Epoch 47/50\n",
      " - 2s - loss: 2.0484 - acc: 0.7417 - val_loss: 2.1575 - val_acc: 0.7248\n",
      "Epoch 48/50\n",
      " - 2s - loss: 2.0575 - acc: 0.7385 - val_loss: 2.1452 - val_acc: 0.7371\n",
      "Epoch 49/50\n",
      " - 2s - loss: 2.0719 - acc: 0.7404 - val_loss: 2.2207 - val_acc: 0.7037\n",
      "Epoch 50/50\n",
      " - 2s - loss: 2.1120 - acc: 0.7170 - val_loss: 2.1710 - val_acc: 0.7237\n"
     ]
    }
   ],
   "source": [
    "history = model.fit(x_train, y_train,\n",
    "         validation_data=[x_test, y_test],\n",
    "         epochs=50,\n",
    "         batch_size=batch_size,\n",
    "         )"
   ]
  },
  {
   "cell_type": "code",
   "execution_count": 44,
   "metadata": {
    "_uuid": "be029459ed4461236a92d3fb9c367b1e9d0ac912"
   },
   "outputs": [
    {
     "data": {
      "image/png": "[encoded data removed]",
      "text/plain": [
       "<Figure size 432x288 with 1 Axes>"
      ]
     },
     "metadata": {},
     "output_type": "display_data"
    },
    {
     "data": {
      "image/png": "[encoded data removed]",
      "text/plain": [
       "<Figure size 432x288 with 1 Axes>"
      ]
     },
     "metadata": {},
     "output_type": "display_data"
    }
   ],
   "source": [
    "# accuracy plot \n",
    "plt.plot(history.history['acc'])\n",
    "plt.plot(history.history['val_acc'])\n",
    "plt.title('model accuracy')\n",
    "plt.ylabel('accuracy')\n",
    "plt.xlabel('epoch')\n",
    "plt.legend(['train', 'test'], loc='upper left')\n",
    "plt.show()\n",
    "\n",
    "# loss plot\n",
    "plt.plot(history.history['loss'])\n",
    "plt.plot(history.history['val_loss'])\n",
    "plt.title('model loss')\n",
    "plt.ylabel('loss')\n",
    "plt.xlabel('epoch')\n",
    "plt.legend(['train', 'test'], loc='upper left')\n",
    "plt.show()"
   ]
  },
  {
   "cell_type": "markdown",
   "metadata": {},
   "source": [
    "### Visualize How CAM activates"
   ]
  },
  {
   "cell_type": "code",
   "execution_count": 45,
   "metadata": {},
   "outputs": [],
   "source": [
    "#set target wafer number\n",
    "target_wafer_num = 11\n",
    "# predict \n",
    "prob = model.model.predict(x_test[target_wafer_num].reshape(1,26,26,3))"
   ]
  },
  {
   "cell_type": "code",
   "execution_count": 46,
   "metadata": {},
   "outputs": [],
   "source": [
    "aver_output = model.model.layers[7]\n",
    "aver_model = models.Model(input_tensor, aver_output.output)\n",
    "cam_result = aver_model.predict(x_test[target_wafer_num].reshape(1, 26, 26, 3))"
   ]
  },
  {
   "cell_type": "code",
   "execution_count": 47,
   "metadata": {},
   "outputs": [],
   "source": [
    "weight_result = model.model.layers[-1].get_weights()[0]"
   ]
  },
  {
   "cell_type": "code",
   "execution_count": 48,
   "metadata": {},
   "outputs": [],
   "source": [
    "def make_cam(cam_result, weight_result): \n",
    "    cam_arr = np.zeros((1,24, 24))\n",
    "    for row in range(0,9):\n",
    "        cam = np.zeros((1, 24, 24))\n",
    "        for i, w in enumerate(weight_result[:, row]):\n",
    "            cam += (w*cam_result[0,:,:,i]).reshape(24,24)\n",
    "        cam = (cam - np.min(cam)) / (np.max(cam) - np.min(cam))\n",
    "        cam[mask_x == 0] = 0\n",
    "        cam_arr = np.concatenate((cam_arr, cam))\n",
    "    return cam_arr[1:]\n",
    "\n",
    "def display_activation(cam_arr, prob, wafer): \n",
    "    fig, ax = plt.subplots(9, 1, figsize=(50, 50))\n",
    "    count = 0\n",
    "    cam_arr[np.percentile(cam_arr, 0.8) > cam_arr] = 0\n",
    "    for row in range(0,9):\n",
    "        ax[row].imshow(np.argmax(wafer, axis=2))\n",
    "        ax[row].imshow(cam_arr[row],cmap='Reds', alpha=0.7)\n",
    "        ax[row].set_title('class : ' + faulty_case_dict[count]+', prob : {:.4f}'.format(prob[:, count][0]*100) + '%')\n",
    "        count += 1"
   ]
  },
  {
   "cell_type": "code",
   "execution_count": 49,
   "metadata": {},
   "outputs": [
    {
     "data": {
      "text/plain": [
       "'Scratch'"
      ]
     },
     "execution_count": 49,
     "metadata": {},
     "output_type": "execute_result"
    }
   ],
   "source": [
    "faulty_case_dict[np.argmax(y_test[11])]"
   ]
  },
  {
   "cell_type": "code",
   "execution_count": 50,
   "metadata": {},
   "outputs": [
    {
     "name": "stdout",
     "output_type": "stream",
     "text": [
      "faulty case : Scratch\n"
     ]
    },
    {
     "data": {
      "image/png": "[encoded data removed]",
      "text/plain": [
       "<Figure size 432x288 with 1 Axes>"
      ]
     },
     "metadata": {},
     "output_type": "display_data"
    }
   ],
   "source": [
    "plt.imshow(np.argmax(x_test[target_wafer_num], axis=2))\n",
    "print('faulty case : {}'.format(faulty_case_dict[np.argmax(y_test[target_wafer_num])]))"
   ]
  },
  {
   "cell_type": "code",
   "execution_count": 51,
   "metadata": {},
   "outputs": [
    {
     "data": {
      "text/plain": [
       "(1, 24, 24, 256)"
      ]
     },
     "execution_count": 51,
     "metadata": {},
     "output_type": "execute_result"
    }
   ],
   "source": [
    "cam_result.shape"
   ]
  },
  {
   "cell_type": "code",
   "execution_count": 52,
   "metadata": {},
   "outputs": [],
   "source": [
    "cam_arr = make_cam(cam_result, weight_result)"
   ]
  },
  {
   "cell_type": "code",
   "execution_count": 53,
   "metadata": {},
   "outputs": [
    {
     "data": {
      "text/plain": [
       "(1, 9)"
      ]
     },
     "execution_count": 53,
     "metadata": {},
     "output_type": "execute_result"
    }
   ],
   "source": [
    "prob.shape"
   ]
  },
  {
   "cell_type": "code",
   "execution_count": 54,
   "metadata": {},
   "outputs": [
    {
     "data": {
      "image/png": "[encoded data removed]",
      "text/plain": [
       "<Figure size 3600x3600 with 9 Axes>"
      ]
     },
     "metadata": {},
     "output_type": "display_data"
    }
   ],
   "source": [
    "display_activation(cam_arr, prob, x_test[target_wafer_num])"
   ]
  }
 ],
 "metadata": {
  "kernelspec": {
   "display_name": "Python 3",
   "language": "python",
   "name": "python3"
  },
  "language_info": {
   "codemirror_mode": {
    "name": "ipython",
    "version": 3
   },
   "file_extension": ".py",
   "mimetype": "text/x-python",
   "name": "python",
   "nbconvert_exporter": "python",
   "pygments_lexer": "ipython3",
   "version": "3.6.6"
  }
 },
 "nbformat": 4,
 "nbformat_minor": 1
}
