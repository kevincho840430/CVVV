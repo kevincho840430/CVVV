{
 "cells": [
  {
   "cell_type": "markdown",
   "metadata": {
    "colab_type": "text",
    "id": "riAhiisHbTir"
   },
   "source": [
    "# Python 基本語法教學"
   ]
  },
  {
   "cell_type": "markdown",
   "metadata": {
    "colab_type": "text",
    "id": "gSS4gGWShRdv"
   },
   "source": [
    "## 1.何謂Jupyter notebook"
   ]
  },
  {
   "cell_type": "markdown",
   "metadata": {
    "colab_type": "text",
    "id": "IoycHnU0hRdx"
   },
   "source": [
    "- 好用的撰寫程式工具\n",
    "- 可以執行每一行程式去看出結果或錯誤\n",
    "- 可在執行完後留下結果(圖或文字)，方便日後查看(視覺化)\n",
    "- 每一格執行完後會在旁邊的框框出現一個數字，代表執行的順序 "
   ]
  },
  {
   "cell_type": "markdown",
   "metadata": {
    "colab_type": "text",
    "id": "8l0EkMnrhRdy"
   },
   "source": [
    "### 1.1 介面說明"
   ]
  },
  {
   "cell_type": "markdown",
   "metadata": {
    "colab_type": "text",
    "id": "81gc-s6MhRdz"
   },
   "source": [
    "#### 常用功能(實際操作)\n",
    "- 1.save note book。功能:存檔\n",
    "- 2.+(insert cell)。功能：新增一個空白的cell可執行程式\n",
    "- 3.剪下(Cut selected cell)。功能:將單元格剪下\n",
    "- 4.複製單元格(Copy the selected cell)。功能：將單元格複製\n",
    "- 5.貼上單元格(Paste cells)。功能:將剪下或複製的單元格貼上\n",
    "- 6.執行單元格。功能:執行當前單元格\n",
    "- 7.終止單元格。功能:停止當前單元格\n",
    "- 8.重整kernal。功能:重新整理當前ipynb\n",
    "- 9.code Markdown Raw 切換"
   ]
  },
  {
   "cell_type": "markdown",
   "metadata": {
    "colab_type": "text",
    "id": "u1fvcPNdhRd0"
   },
   "source": [
    "### 小練習"
   ]
  },
  {
   "cell_type": "markdown",
   "metadata": {
    "colab_type": "text",
    "id": "U-OC-L5PhRd1"
   },
   "source": [
    "試著操作以上功能以及探索熟悉簡易操作"
   ]
  },
  {
   "cell_type": "code",
   "execution_count": null,
   "metadata": {},
   "outputs": [],
   "source": []
  },
  {
   "cell_type": "markdown",
   "metadata": {},
   "source": [
    "常用快捷鍵\n",
    "- Enter : 轉入編輯模式\n",
    "- Shift-Enter : 運行本單元，選中下個單元\n",
    "- Ctrl-Enter : 運行本單元\n",
    "- Alt-Enter : 運行本單元，在其下插入新單元\n",
    "- Up : 選中上方單元\n",
    "- Down : 選中下方單元\n",
    "- A : 在上方插入新單元\n",
    "- B : 在下方插入新單元\n",
    "- X : 剪切選中的單元\n",
    "- C : 複製選中的單元\n",
    "- Shift-V : 粘貼到上方單元\n",
    "- V : 粘貼到下方單元\n",
    "- Z : 恢復刪除的最後一個單元\n",
    "- D,D : 刪除選中的單元\n",
    "- Ctrl-S :存檔\n",
    "- Esc : 關閉頁面"
   ]
  },
  {
   "cell_type": "markdown",
   "metadata": {
    "colab_type": "text",
    "id": "u1fvcPNdhRd0"
   },
   "source": [
    "### 小練習"
   ]
  },
  {
   "cell_type": "markdown",
   "metadata": {
    "colab_type": "text",
    "id": "U-OC-L5PhRd1"
   },
   "source": [
    "試著操作快捷鍵功能以及探索熟悉簡易操作"
   ]
  },
  {
   "cell_type": "code",
   "execution_count": null,
   "metadata": {},
   "outputs": [],
   "source": []
  },
  {
   "cell_type": "markdown",
   "metadata": {
    "colab_type": "text",
    "id": "CVijCOW0hRd8"
   },
   "source": [
    "### 2.常用的一些程式教學\n",
    "- Python的語法非常的直觀與簡易\n",
    "- 每一個空格跟符號都有其代表的意義，在撰寫的時候要注意，如果有不知道的語法可上網或看書查詢撰寫的格式\n",
    "- #字號在程式內代表註解，可用於說明每一行程式的意義"
   ]
  },
  {
   "cell_type": "markdown",
   "metadata": {
    "colab_type": "text",
    "id": "OZze8S_vhReN"
   },
   "source": [
    "### 2.1 Print"
   ]
  },
  {
   "cell_type": "markdown",
   "metadata": {
    "colab_type": "text",
    "id": "pSEE33PBhReO"
   },
   "source": [
    "- 印出文字或數字是每個人寫程式第一個會碰到的事情\n",
    "- 只要用print(' ')在括號內填入任何的東西就可以印出你填入的內容"
   ]
  },
  {
   "cell_type": "markdown",
   "metadata": {
    "colab_type": "text",
    "id": "1OKIIdbGhReP"
   },
   "source": [
    "### 小練習\n",
    "- 試著印出Hello world!"
   ]
  },
  {
   "cell_type": "code",
   "execution_count": null,
   "metadata": {},
   "outputs": [],
   "source": []
  },
  {
   "cell_type": "markdown",
   "metadata": {
    "colab_type": "text",
    "id": "KvsDWz2OhReU"
   },
   "source": [
    "### 解答"
   ]
  },
  {
   "cell_type": "code",
   "execution_count": 1,
   "metadata": {
    "colab": {},
    "colab_type": "code",
    "id": "1olNvQIJhReV"
   },
   "outputs": [
    {
     "name": "stdout",
     "output_type": "stream",
     "text": [
      "Hello world!\n"
     ]
    }
   ],
   "source": [
    "#hello world\n",
    "print('Hello world!')"
   ]
  },
  {
   "cell_type": "markdown",
   "metadata": {
    "colab_type": "text",
    "id": "kK_uImDIhRef"
   },
   "source": [
    "### 2.2 運算符號\n",
    "- 撰寫程式需要許多的運算來幫助我們去進行判斷\n",
    "- 以下為一些常用的符號"
   ]
  },
  {
   "cell_type": "markdown",
   "metadata": {
    "colab_type": "text",
    "id": "gWIyLUgfhReg"
   },
   "source": [
    "![title](https://scontent.frmq2-2.fna.fbcdn.net/v/t1.15752-9/53087092_1123181097892968_7887012238517600256_n.png?_nc_cat=101&_nc_oc=AQmZCy6e_7GOorcidez6rxtBM2uFUMTrhGFqiX_srsxd_-ZkuMOyiIM3cKgoCW-1KyY&_nc_ht=scontent.frmq2-2.fna&oh=df8c316cf4c0a731eeb5294d5cc77f9a&oe=5E205C21)"
   ]
  },
  {
   "cell_type": "code",
   "execution_count": 2,
   "metadata": {
    "colab": {},
    "colab_type": "code",
    "id": "n1BkYUIohReh"
   },
   "outputs": [
    {
     "data": {
      "text/plain": [
       "30"
      ]
     },
     "execution_count": 2,
     "metadata": {},
     "output_type": "execute_result"
    }
   ],
   "source": [
    "#以下為小練習\n",
    "a = 10 \n",
    "b = 20 \n",
    "a+b"
   ]
  },
  {
   "cell_type": "code",
   "execution_count": 3,
   "metadata": {},
   "outputs": [
    {
     "data": {
      "text/plain": [
       "30"
      ]
     },
     "execution_count": 3,
     "metadata": {},
     "output_type": "execute_result"
    }
   ],
   "source": [
    "a+b"
   ]
  },
  {
   "cell_type": "markdown",
   "metadata": {
    "colab_type": "text",
    "id": "BVUpd90ihRep"
   },
   "source": [
    "比較符號"
   ]
  },
  {
   "cell_type": "markdown",
   "metadata": {
    "colab_type": "text",
    "id": "Prs1z7dZhReq"
   },
   "source": [
    "![title](https://scontent.frmq2-1.fna.fbcdn.net/v/t1.15752-9/53649939_511390665934428_8224024367885975552_n.png?_nc_cat=110&_nc_oc=AQkYcBcQc5fX1WykxhmgzPyNEj-bZqggbGEGDTkGrCE-4NqFKoMnPjKwrSbbLcLiwjg&_nc_ht=scontent.frmq2-1.fna&oh=42c7246b57a59e6e53db74423db369f8&oe=5E6108AE)"
   ]
  },
  {
   "cell_type": "code",
   "execution_count": 4,
   "metadata": {
    "colab": {},
    "colab_type": "code",
    "id": "q0ENdu4EhReu"
   },
   "outputs": [
    {
     "data": {
      "text/plain": [
       "True"
      ]
     },
     "execution_count": 4,
     "metadata": {},
     "output_type": "execute_result"
    }
   ],
   "source": [
    "##以下為小練習\n",
    "a=20\n",
    "b=20\n",
    "a==b"
   ]
  },
  {
   "cell_type": "markdown",
   "metadata": {
    "colab_type": "text",
    "id": "nxUglVPdhRex"
   },
   "source": [
    "### 位運算符與邏輯運算符\n",
    "- &(and): 如果有兩個條件判斷成立才會為True\n",
    "- |(or) : 只要有其中一條件達成就會為True\n",
    "\n",
    "&是邏輯與運算，當與的二者某位都是真(也就是1)的時候才能給該位賦1，其餘情況是假（也就是0）。\n",
    "\n",
    "and是邏輯判斷，返回的是真（非0值）或者假（值0），在算式a and b中，只要a、b中有一個為0就返回0（假）值。否則就返回b的值。\n",
    "\n",
    "https://www.runoob.com/python/python-operators.html"
   ]
  },
  {
   "cell_type": "code",
   "execution_count": 3,
   "metadata": {
    "colab": {},
    "colab_type": "code",
    "id": "2h7jWQ9ShRey"
   },
   "outputs": [
    {
     "name": "stdout",
     "output_type": "stream",
     "text": [
      "False\n"
     ]
    }
   ],
   "source": [
    "a = 10\n",
    "b = 20 \n",
    "print ( (a > 20) and (b<30))"
   ]
  },
  {
   "cell_type": "code",
   "execution_count": 6,
   "metadata": {
    "colab": {},
    "colab_type": "code",
    "id": "EojNaGuNhRe3"
   },
   "outputs": [
    {
     "name": "stdout",
     "output_type": "stream",
     "text": [
      "True\n"
     ]
    }
   ],
   "source": [
    "a = 10\n",
    "b = 20 \n",
    "print ( (a > 20) | (b<30))"
   ]
  },
  {
   "cell_type": "markdown",
   "metadata": {
    "colab_type": "text",
    "id": "IgUsywKowGG9"
   },
   "source": [
    "### 小練習\n",
    "- a = 91 是否同時為7與13的倍數"
   ]
  },
  {
   "cell_type": "code",
   "execution_count": null,
   "metadata": {
    "colab": {},
    "colab_type": "code",
    "id": "KMwqpkqswHbH"
   },
   "outputs": [],
   "source": []
  },
  {
   "cell_type": "markdown",
   "metadata": {
    "colab_type": "text",
    "id": "j4R9dTZrwHo8"
   },
   "source": [
    "### 解答"
   ]
  },
  {
   "cell_type": "code",
   "execution_count": 2,
   "metadata": {
    "colab": {},
    "colab_type": "code",
    "id": "a1WuCJ4iwLrf"
   },
   "outputs": [
    {
     "name": "stdout",
     "output_type": "stream",
     "text": [
      "True\n"
     ]
    }
   ],
   "source": [
    "a = 91\n",
    "\n",
    "print ((a%7==0) & (a%13==0))"
   ]
  },
  {
   "cell_type": "markdown",
   "metadata": {
    "colab_type": "text",
    "id": "6QX0jSLhhRe6"
   },
   "source": [
    "## 3.常見基本型態\n",
    "- 在數字或文字之間我們需要去認識其不同的形態\n",
    "- 基本常見的有以下string,int,float"
   ]
  },
  {
   "cell_type": "code",
   "execution_count": 8,
   "metadata": {
    "colab": {},
    "colab_type": "code",
    "id": "97xuPxsuJRUd"
   },
   "outputs": [
    {
     "name": "stdout",
     "output_type": "stream",
     "text": [
      "<class 'str'>\n",
      "<class 'int'>\n",
      "<class 'float'>\n"
     ]
    }
   ],
   "source": [
    "# 一個等於是賦值的意思\n",
    "string = \"100\" # 用雙引號括起來的東西會變成字串\n",
    "integer = 100 # 沒用雙引號就會變整數\n",
    "fraction = 100.0 # 加上點會變成小數\n",
    "print(type(string)) # type()可以用來判斷變數的型態\n",
    "print(type(integer))\n",
    "print(type(fraction))"
   ]
  },
  {
   "cell_type": "markdown",
   "metadata": {
    "colab_type": "text",
    "id": "m3mIZ56LbZ2v"
   },
   "source": [
    "## 4.轉換型態"
   ]
  },
  {
   "cell_type": "code",
   "execution_count": 9,
   "metadata": {
    "colab": {},
    "colab_type": "code",
    "id": "WPGh2aAAJ1Db"
   },
   "outputs": [
    {
     "name": "stdout",
     "output_type": "stream",
     "text": [
      "False\n",
      "True\n",
      "True\n"
     ]
    }
   ],
   "source": [
    "# 兩個等於是判斷是否相等的意思\n",
    "print(string == integer) \n",
    "print(string == str(integer)) # str()可以把變數的型態變成字串\n",
    "print(int(string) == integer) # int()可以把變數的型態變成整數"
   ]
  },
  {
   "cell_type": "markdown",
   "metadata": {
    "colab_type": "text",
    "id": "gVTftfLQhRfF"
   },
   "source": [
    "## 5.List\n",
    "- list是Python中最基本的數據結構。序列中的每個元素都分配一個數字或索引，第一個索引是0，第二個索引是1，依此類推。\n",
    "- list 適合用來儲存小資料，以及索引數值。"
   ]
  },
  {
   "cell_type": "code",
   "execution_count": 3,
   "metadata": {
    "colab": {},
    "colab_type": "code",
    "id": "keCIJX-_hRfJ"
   },
   "outputs": [],
   "source": [
    "list1 = [ ' physics ' , ' chemistry ' , 1997 , 2000 ] \n",
    "list2 = [ 1 , 2 , 3 , 4 , 5 ] \n",
    "list3 = [ \" a \" , \" b \" , \" c \" , \" d \" ]"
   ]
  },
  {
   "cell_type": "code",
   "execution_count": 5,
   "metadata": {
    "colab": {},
    "colab_type": "code",
    "id": "snBiNVKRhRfP"
   },
   "outputs": [
    {
     "name": "stdout",
     "output_type": "stream",
     "text": [
      "2000\n"
     ]
    }
   ],
   "source": [
    "print(list1[3])"
   ]
  },
  {
   "cell_type": "markdown",
   "metadata": {
    "colab_type": "text",
    "id": "KyKvD_sjhRfS"
   },
   "source": [
    "### 小練習\n",
    "- 試著將list3中的第三個元素印出並知道他的型態"
   ]
  },
  {
   "cell_type": "code",
   "execution_count": null,
   "metadata": {
    "colab": {},
    "colab_type": "code",
    "id": "TwUDoSeVhRfU"
   },
   "outputs": [],
   "source": []
  },
  {
   "cell_type": "code",
   "execution_count": 12,
   "metadata": {
    "colab": {},
    "colab_type": "code",
    "id": "01zIxJlshRfX"
   },
   "outputs": [
    {
     "name": "stdout",
     "output_type": "stream",
     "text": [
      " c  <class 'str'>\n"
     ]
    }
   ],
   "source": [
    "#解答\n",
    "print(list3[2],type(list3[2]))"
   ]
  },
  {
   "cell_type": "markdown",
   "metadata": {},
   "source": [
    "# 小練習"
   ]
  },
  {
   "cell_type": "code",
   "execution_count": 34,
   "metadata": {},
   "outputs": [],
   "source": [
    "a = 0\n",
    "b = 0\n",
    "c = 0\n",
    "list_1 = []\n",
    "for i in list_face:\n",
    "    a+=i[0]\n",
    "    b+=i[1]\n",
    "    c+=i[2]\n",
    "list_1.append(a)\n",
    "list_1.append(b)\n",
    "list_1.append(c)"
   ]
  },
  {
   "cell_type": "code",
   "execution_count": 40,
   "metadata": {},
   "outputs": [
    {
     "name": "stdout",
     "output_type": "stream",
     "text": [
      "0 0\n",
      "0 1\n",
      "0 2\n",
      "1 0\n",
      "1 1\n",
      "1 2\n",
      "2 0\n",
      "2 1\n",
      "2 2\n",
      "[12, 15, 18]\n"
     ]
    }
   ],
   "source": [
    "temp = [[1,2,3], [4,5,6], [7,8,9]]\n",
    "ans = []\n",
    "\n",
    "for i in range(len(temp)):\n",
    "    for j in range(len(temp[i])):\n",
    "        print(i, j)\n",
    "        if(i == 0):\n",
    "            ans.append(temp[i][j])\n",
    "        else:\n",
    "            ans[j] += temp[i][j]"
   ]
  },
  {
   "cell_type": "code",
   "execution_count": 62,
   "metadata": {},
   "outputs": [
    {
     "name": "stdout",
     "output_type": "stream",
     "text": [
      "[6, 9, 12]\n",
      "[6, 9, 12]\n"
     ]
    }
   ],
   "source": [
    "ans=[]\n",
    "for i in list_face:\n",
    "     ans.append(i[0]+i[1]+i[2])\n",
    "print(ans)\n",
    "\n",
    "ans=[]\n",
    "for i in list_face:\n",
    "    a = 0\n",
    "    for j in range(len(i)):\n",
    "        a += i[j]\n",
    "    ans.append(a)\n",
    "print(ans)"
   ]
  },
  {
   "cell_type": "code",
   "execution_count": 44,
   "metadata": {},
   "outputs": [
    {
     "data": {
      "text/plain": [
       "array([12, 15, 18])"
      ]
     },
     "execution_count": 44,
     "metadata": {},
     "output_type": "execute_result"
    }
   ],
   "source": [
    "import numpy\n",
    "temp = [[1,2,3], [4,5,6], [7,8,9]]\n",
    "numpy.sum(temp,axis = 0)"
   ]
  },
  {
   "cell_type": "code",
   "execution_count": 9,
   "metadata": {},
   "outputs": [],
   "source": [
    "list_face = [[1,2,3],[2,3,4],[3,4,5]]\n",
    "#list_face = [4,5,6]"
   ]
  },
  {
   "cell_type": "code",
   "execution_count": 13,
   "metadata": {},
   "outputs": [
    {
     "name": "stdout",
     "output_type": "stream",
     "text": [
      "6\n"
     ]
    }
   ],
   "source": [
    "a = list_face[0][0]+list_face[1][0]+list_face[2][0]\n",
    "print(a)"
   ]
  },
  {
   "cell_type": "code",
   "execution_count": 14,
   "metadata": {},
   "outputs": [
    {
     "name": "stdout",
     "output_type": "stream",
     "text": [
      "9\n"
     ]
    }
   ],
   "source": [
    "b = list_face[0][1]+list_face[1][1]+list_face[2][1]\n",
    "print(b)"
   ]
  },
  {
   "cell_type": "code",
   "execution_count": 16,
   "metadata": {},
   "outputs": [
    {
     "name": "stdout",
     "output_type": "stream",
     "text": [
      "12\n"
     ]
    }
   ],
   "source": [
    "c = list_face[0][2]+list_face[1][2]+list_face[2][2]\n",
    "print(c)"
   ]
  },
  {
   "cell_type": "code",
   "execution_count": 19,
   "metadata": {},
   "outputs": [],
   "source": [
    "list_1 = []\n",
    "list_1.append(a)"
   ]
  },
  {
   "cell_type": "code",
   "execution_count": 20,
   "metadata": {},
   "outputs": [],
   "source": [
    "list_1.append(b)"
   ]
  },
  {
   "cell_type": "code",
   "execution_count": 21,
   "metadata": {},
   "outputs": [],
   "source": [
    "list_1.append(c)"
   ]
  },
  {
   "cell_type": "code",
   "execution_count": 22,
   "metadata": {},
   "outputs": [
    {
     "data": {
      "text/plain": [
       "[6, 9, 12]"
      ]
     },
     "execution_count": 22,
     "metadata": {},
     "output_type": "execute_result"
    }
   ],
   "source": [
    "list_1"
   ]
  },
  {
   "cell_type": "markdown",
   "metadata": {
    "colab_type": "text",
    "id": "F4x7X3isaah7"
   },
   "source": [
    "## 6.條件判斷式 (if else)\n",
    "- 當我們需要進行多個條件的判斷的時候就可以用if else語法判斷\n",
    "- 可以很直觀的想成如果達成了某個條件就會進行以下動作，不然則會執行另外一個動作。"
   ]
  },
  {
   "cell_type": "code",
   "execution_count": 13,
   "metadata": {
    "colab": {},
    "colab_type": "code",
    "id": "jg7kIojtOCTO"
   },
   "outputs": [
    {
     "name": "stdout",
     "output_type": "stream",
     "text": [
      "you are S!\n"
     ]
    }
   ],
   "source": [
    "# 條件判斷可以用 and 或 or 來判斷多個條件\n",
    "score = 90\n",
    "if(score >= 60 and score < 70): # 條件判斷式以 if 做開頭\n",
    "  print(\"you are C!\")\n",
    "elif(score >= 70 and score < 80): # if 後面的條件都用 elif \n",
    "  print(\"you are B!\")\n",
    "elif(score >= 80 and score < 90):\n",
    "  print(\"you are A!\")\n",
    "elif(score >= 90 and score <= 100):\n",
    "  print(\"you are S!\")\n",
    "else: # 最後用 else 結尾，前面的條件都沒成立的話，就會進到這邊\n",
    "  print(\"you are fail!\")"
   ]
  },
  {
   "cell_type": "markdown",
   "metadata": {
    "colab_type": "text",
    "id": "slhe_xMwhRfi"
   },
   "source": [
    "### 小練習"
   ]
  },
  {
   "cell_type": "markdown",
   "metadata": {
    "colab_type": "text",
    "id": "Ig7vV4bMhRfj"
   },
   "source": [
    "- 假設今天訂單(order)有1000件，如果今天檢測良品(good)大於800，則為A+。介於600到800之間則為B+，小於600則為C+，請用if else判斷式進行判斷，不良品(bad)可自己先隨便假設一數值。"
   ]
  },
  {
   "cell_type": "code",
   "execution_count": 14,
   "metadata": {
    "colab": {},
    "colab_type": "code",
    "id": "n0bjsoehhRfk"
   },
   "outputs": [],
   "source": [
    "order = 1000\n",
    "bad = 0"
   ]
  },
  {
   "cell_type": "code",
   "execution_count": null,
   "metadata": {
    "colab": {},
    "colab_type": "code",
    "id": "dOqF0Lq1hRfm"
   },
   "outputs": [],
   "source": []
  },
  {
   "cell_type": "code",
   "execution_count": 55,
   "metadata": {
    "colab": {},
    "colab_type": "code",
    "id": "vKhr-58dhRft"
   },
   "outputs": [
    {
     "name": "stdout",
     "output_type": "stream",
     "text": [
      "A+\n"
     ]
    }
   ],
   "source": [
    "#解答\n",
    "order = 1000\n",
    "bad = 200\n",
    "good = order - bad\n",
    "if (good >= 800):\n",
    "    print('A+')\n",
    "elif (good < 800 and good >=600):\n",
    "    print('B+')\n",
    "else:\n",
    "    print('C+')"
   ]
  },
  {
   "cell_type": "markdown",
   "metadata": {
    "colab_type": "text",
    "id": "NmnA8m8tatOi"
   },
   "source": [
    "## 7.函數(function)\n",
    "- 當一段程式我們需要重複使用或呼叫的時候，就可以用def function的寫法重複呼叫\n",
    "- 在寫函式的時候我們需要將原本print的地方改為return，原因是因為叫function的時候我們需要將結果回傳出來才能使用。"
   ]
  },
  {
   "cell_type": "code",
   "execution_count": 56,
   "metadata": {},
   "outputs": [],
   "source": [
    "# 條件判斷可以用 and 或 or 來判斷多個條件\n",
    "def function_1(score):\n",
    "    if(score >= 60 and score < 70): # 條件判斷式以 if 做開頭\n",
    "        return(\"you are C!\")\n",
    "    elif(score >= 70 and score < 80): # if 後面的條件都用 elif \n",
    "        return(\"you are B!\")\n",
    "    elif(score >= 80 and score < 90):\n",
    "        return(\"you are A!\")\n",
    "    elif(score >= 90 and score <= 100):\n",
    "        return(\"you are S!\")\n",
    "    else: # 最後用 else 結尾，前面的條件都沒成立的話，就會進到這邊\n",
    "        return(\"you are fail!\")"
   ]
  },
  {
   "cell_type": "code",
   "execution_count": null,
   "metadata": {},
   "outputs": [],
   "source": []
  },
  {
   "cell_type": "code",
   "execution_count": 57,
   "metadata": {},
   "outputs": [
    {
     "data": {
      "text/plain": [
       "'you are C!'"
      ]
     },
     "execution_count": 57,
     "metadata": {},
     "output_type": "execute_result"
    }
   ],
   "source": [
    "function_1(64)"
   ]
  },
  {
   "cell_type": "code",
   "execution_count": 16,
   "metadata": {
    "colab": {},
    "colab_type": "code",
    "id": "irTbIZdHQUO0"
   },
   "outputs": [
    {
     "name": "stdout",
     "output_type": "stream",
     "text": [
      "you are fail!\n",
      "you are B!\n"
     ]
    }
   ],
   "source": [
    "#延續上面的分數判斷將其改成def function寫法\n",
    "\n",
    "def grade(score):\n",
    "  if(score >= 60 and score < 70): # 條件判斷式以 if 做開頭\n",
    "    return (\"you are C!\")\n",
    "  elif(score >= 70 and score < 80): # if 後面的條件都用 elif \n",
    "    return (\"you are B!\")\n",
    "  elif(score >= 80 and score < 90):\n",
    "    return (\"you are A!\")\n",
    "  elif(score >= 90 and score <= 100):\n",
    "    return (\"you are S!\")\n",
    "  else: # 最後用 else 結尾，前面的條件都沒成立的話，就會進到這邊\n",
    "    return (\"you are fail!\")\n",
    "\n",
    "print(grade(59))\n",
    "print(grade(70))"
   ]
  },
  {
   "cell_type": "markdown",
   "metadata": {
    "colab_type": "text",
    "id": "kIC178U8hRf4"
   },
   "source": [
    "### 小練習\n",
    "- 將上面訂單小練習改成function\n",
    "- 注意空格與空行\n",
    "- (進階)可用input函式改成可自己手動輸入訂單"
   ]
  },
  {
   "cell_type": "code",
   "execution_count": null,
   "metadata": {
    "colab": {},
    "colab_type": "code",
    "id": "Dw4R3jFbhRf5"
   },
   "outputs": [],
   "source": []
  },
  {
   "cell_type": "code",
   "execution_count": 17,
   "metadata": {
    "colab": {},
    "colab_type": "code",
    "id": "VKPbzANnhRgA"
   },
   "outputs": [
    {
     "name": "stdout",
     "output_type": "stream",
     "text": [
      "B+\n"
     ]
    }
   ],
   "source": [
    "#解答\n",
    "def plan(good):\n",
    "    if (good >= 800):\n",
    "        return ('A+')\n",
    "    elif (good < 800 and good >=600):\n",
    "        return ('B+')\n",
    "    else:\n",
    "        return ('C+')\n",
    "    \n",
    "order = 1000\n",
    "bad =300\n",
    "\n",
    "good = order-bad\n",
    "print(plan(good))"
   ]
  },
  {
   "cell_type": "code",
   "execution_count": 58,
   "metadata": {
    "colab": {},
    "colab_type": "code",
    "id": "r-vhwoUuhRgD"
   },
   "outputs": [
    {
     "name": "stdin",
     "output_type": "stream",
     "text": [
      "請輸入訂單：  1000\n",
      "請輸入壞品：  700\n"
     ]
    },
    {
     "name": "stdout",
     "output_type": "stream",
     "text": [
      "C+\n"
     ]
    }
   ],
   "source": [
    "#進階解答\n",
    "def plan(good):\n",
    "    if (good >= 800):\n",
    "        return ('A+')\n",
    "    elif (good < 800 and good >=600):\n",
    "        return ('B+')\n",
    "    else:\n",
    "        return ('C+')\n",
    "\n",
    "order = input('請輸入訂單： ')\n",
    "order = int(order)\n",
    "bad = input('請輸入壞品： ')\n",
    "bad = int(bad)\n",
    "\n",
    "good = order-bad\n",
    "print(plan(good))"
   ]
  },
  {
   "cell_type": "markdown",
   "metadata": {},
   "source": [
    "## 8.Range\n",
    "Range這個型別可用來創建並儲存特定範圍內的整數，故得名Range。\n",
    "必須特別注意的是，一旦Range被創建了，裡面的內容是不可修改的。\n",
    "在Python中，我們有幾個方法可以創造Range。\n",
    "- Range(stop)\n",
    "stop：停止點\n",
    "- Range(start, stop)\n",
    "start：起始點\n",
    "stop：停止點\n",
    "- Range(start, stop, step)\n",
    "start：起始點\n",
    "stop：停止點\n",
    "step：間隔\n",
    "\n",
    "- 通常搭配for迴圈或List來使用"
   ]
  },
  {
   "cell_type": "code",
   "execution_count": 72,
   "metadata": {
    "collapsed": true,
    "jupyter": {
     "outputs_hidden": true
    }
   },
   "outputs": [
    {
     "name": "stdout",
     "output_type": "stream",
     "text": [
      "<class 'range'>\n"
     ]
    },
    {
     "ename": "TypeError",
     "evalue": "'list' object is not callable",
     "output_type": "error",
     "traceback": [
      "\u001b[0;31m---------------------------------------------------------------------------\u001b[0m",
      "\u001b[0;31mTypeError\u001b[0m                                 Traceback (most recent call last)",
      "\u001b[0;32m<ipython-input-72-638f2c4671ee>\u001b[0m in \u001b[0;36m<module>\u001b[0;34m\u001b[0m\n\u001b[1;32m      4\u001b[0m \u001b[0mprint\u001b[0m\u001b[0;34m(\u001b[0m\u001b[0mtype\u001b[0m\u001b[0;34m(\u001b[0m\u001b[0mr1\u001b[0m\u001b[0;34m)\u001b[0m\u001b[0;34m)\u001b[0m\u001b[0;34m\u001b[0m\u001b[0;34m\u001b[0m\u001b[0m\n\u001b[1;32m      5\u001b[0m \u001b[0;34m\u001b[0m\u001b[0m\n\u001b[0;32m----> 6\u001b[0;31m \u001b[0mprint\u001b[0m\u001b[0;34m(\u001b[0m\u001b[0mlist\u001b[0m\u001b[0;34m(\u001b[0m\u001b[0mr1\u001b[0m\u001b[0;34m)\u001b[0m\u001b[0;34m)\u001b[0m\u001b[0;34m\u001b[0m\u001b[0;34m\u001b[0m\u001b[0m\n\u001b[0m\u001b[1;32m      7\u001b[0m \u001b[0mprint\u001b[0m\u001b[0;34m(\u001b[0m\u001b[0mlist\u001b[0m\u001b[0;34m(\u001b[0m\u001b[0mr2\u001b[0m\u001b[0;34m)\u001b[0m\u001b[0;34m)\u001b[0m\u001b[0;34m\u001b[0m\u001b[0;34m\u001b[0m\u001b[0m\n",
      "\u001b[0;31mTypeError\u001b[0m: 'list' object is not callable"
     ]
    }
   ],
   "source": [
    "r1 = range(10)\n",
    "r2 = range(5, 50, 5)\n",
    "\n",
    "print(type(r1))\n",
    "\n",
    "print(list(r1))\n",
    "print(list(r2))"
   ]
  },
  {
   "cell_type": "code",
   "execution_count": null,
   "metadata": {},
   "outputs": [],
   "source": []
  },
  {
   "cell_type": "markdown",
   "metadata": {},
   "source": [
    "- 若沒有給起始值，將預設為0\n",
    "- 若沒有給間隔，將預設為1\n",
    "- 遇到停止點後，創造的過程就會終止，因此Range中的數字將不會包含停止點"
   ]
  },
  {
   "cell_type": "markdown",
   "metadata": {
    "colab_type": "text",
    "id": "3A-Wxo_nbFrZ"
   },
   "source": [
    "## 9.For迴圈\n",
    "- 當我們想要進行重複運算的時候可運用for迴圈去執行\n",
    "- for迴圈是可定義跑幾圈，在後面定義range()可決定要跑幾圈(ex:range(10)就是跑10圈)"
   ]
  },
  {
   "cell_type": "code",
   "execution_count": 19,
   "metadata": {
    "colab": {},
    "colab_type": "code",
    "id": "vUfTik4FSJfo"
   },
   "outputs": [
    {
     "name": "stdout",
     "output_type": "stream",
     "text": [
      "<class 'list'>\n",
      "21\n",
      "45\n",
      "87\n",
      "12\n",
      "34\n"
     ]
    }
   ],
   "source": [
    "temp_list = [21,45,87,12,34]\n",
    "print(type(temp_list))\n",
    "\n",
    "for number in temp_list:\n",
    "  print(number)"
   ]
  },
  {
   "cell_type": "markdown",
   "metadata": {
    "colab_type": "text",
    "id": "VCdL7Ya_hRgJ"
   },
   "source": [
    "### 小練習\n",
    "- 試著用for迴圈印出1~10"
   ]
  },
  {
   "cell_type": "code",
   "execution_count": null,
   "metadata": {},
   "outputs": [],
   "source": []
  },
  {
   "cell_type": "code",
   "execution_count": 20,
   "metadata": {
    "colab": {},
    "colab_type": "code",
    "id": "gs86u9v6hRgK"
   },
   "outputs": [
    {
     "name": "stdout",
     "output_type": "stream",
     "text": [
      "1\n",
      "2\n",
      "3\n",
      "4\n",
      "5\n",
      "6\n",
      "7\n",
      "8\n",
      "9\n",
      "10\n"
     ]
    }
   ],
   "source": [
    "#解答\n",
    "for i in range(1,11):\n",
    "    print (i)"
   ]
  },
  {
   "cell_type": "markdown",
   "metadata": {},
   "source": [
    "## 小練習2\n",
    "- 試著用for迴圈將helloworld逐字印出"
   ]
  },
  {
   "cell_type": "code",
   "execution_count": null,
   "metadata": {},
   "outputs": [],
   "source": []
  },
  {
   "cell_type": "code",
   "execution_count": 21,
   "metadata": {},
   "outputs": [
    {
     "name": "stdout",
     "output_type": "stream",
     "text": [
      "h\n",
      "e\n",
      "l\n",
      "l\n",
      "o\n",
      "w\n",
      "o\n",
      "r\n",
      "l\n",
      "d\n"
     ]
    }
   ],
   "source": [
    "#解答\n",
    "x = 'helloworld'\n",
    "for i in range(len(x)):\n",
    "    print(x[i])"
   ]
  },
  {
   "cell_type": "code",
   "execution_count": 22,
   "metadata": {
    "colab": {},
    "colab_type": "code",
    "id": "-v98GIbchRgN"
   },
   "outputs": [],
   "source": [
    "# 常見for迴圈練習題 9x9乘法表"
   ]
  },
  {
   "cell_type": "code",
   "execution_count": 23,
   "metadata": {
    "colab": {},
    "colab_type": "code",
    "id": "IWNzsm3HhRgR"
   },
   "outputs": [
    {
     "name": "stdout",
     "output_type": "stream",
     "text": [
      "1x1= 1\t1x2= 2\t1x3= 3\t1x4= 4\t1x5= 5\t1x6= 6\t1x7= 7\t1x8= 8\t1x9= 9\t\n",
      "2x1= 2\t2x2= 4\t2x3= 6\t2x4= 8\t2x5=10\t2x6=12\t2x7=14\t2x8=16\t2x9=18\t\n",
      "3x1= 3\t3x2= 6\t3x3= 9\t3x4=12\t3x5=15\t3x6=18\t3x7=21\t3x8=24\t3x9=27\t\n",
      "4x1= 4\t4x2= 8\t4x3=12\t4x4=16\t4x5=20\t4x6=24\t4x7=28\t4x8=32\t4x9=36\t\n",
      "5x1= 5\t5x2=10\t5x3=15\t5x4=20\t5x5=25\t5x6=30\t5x7=35\t5x8=40\t5x9=45\t\n",
      "6x1= 6\t6x2=12\t6x3=18\t6x4=24\t6x5=30\t6x6=36\t6x7=42\t6x8=48\t6x9=54\t\n",
      "7x1= 7\t7x2=14\t7x3=21\t7x4=28\t7x5=35\t7x6=42\t7x7=49\t7x8=56\t7x9=63\t\n",
      "8x1= 8\t8x2=16\t8x3=24\t8x4=32\t8x5=40\t8x6=48\t8x7=56\t8x8=64\t8x9=72\t\n",
      "9x1= 9\t9x2=18\t9x3=27\t9x4=36\t9x5=45\t9x6=54\t9x7=63\t9x8=72\t9x9=81\t\n"
     ]
    }
   ],
   "source": [
    "for number in range(1,10):\n",
    "    for j in range(1,10):\n",
    "        print(\"%dx%d=%2d\\t\" % (number,j,number*j), end='')\n",
    "    print()"
   ]
  },
  {
   "cell_type": "markdown",
   "metadata": {
    "colab_type": "text",
    "id": "mp97CIEghRgW"
   },
   "source": [
    "## 10.while迴圈\n",
    "- 是用條件判斷去決定跑幾圈"
   ]
  },
  {
   "cell_type": "code",
   "execution_count": 76,
   "metadata": {
    "colab": {},
    "colab_type": "code",
    "id": "RkEYFzUyXTo7"
   },
   "outputs": [],
   "source": [
    "#重新再跑一次\n",
    "def grade(score):\n",
    "  if(score >= 60 and score < 70): # 條件判斷式以 if 做開頭\n",
    "    return (\"you are C!\")\n",
    "  elif(score >= 70 and score < 80): # if 後面的條件都用 elif \n",
    "    return (\"you are B!\")\n",
    "  elif(score >= 80 and score < 90):\n",
    "    return (\"you are A!\")\n",
    "  elif(score >= 90 and score <= 100):\n",
    "    return (\"you are S!\")\n",
    "  else: # 最後用 else 結尾，前面的條件都沒成立的話，就會進到這邊\n",
    "    return (\"you are fail!\")"
   ]
  },
  {
   "cell_type": "code",
   "execution_count": 77,
   "metadata": {
    "colab": {},
    "colab_type": "code",
    "id": "a7ejixXfhRgW"
   },
   "outputs": [
    {
     "name": "stdin",
     "output_type": "stream",
     "text": [
      "請輸入數字:  100\n"
     ]
    },
    {
     "name": "stdout",
     "output_type": "stream",
     "text": [
      "you are S!\n"
     ]
    },
    {
     "name": "stdin",
     "output_type": "stream",
     "text": [
      "請輸入數字:  20\n"
     ]
    },
    {
     "name": "stdout",
     "output_type": "stream",
     "text": [
      "you are fail!\n"
     ]
    },
    {
     "name": "stdin",
     "output_type": "stream",
     "text": [
      "請輸入數字:  84\n"
     ]
    },
    {
     "name": "stdout",
     "output_type": "stream",
     "text": [
      "you are A!\n"
     ]
    },
    {
     "name": "stdin",
     "output_type": "stream",
     "text": [
      "請輸入數字:  84\n"
     ]
    },
    {
     "name": "stdout",
     "output_type": "stream",
     "text": [
      "you are A!\n"
     ]
    },
    {
     "name": "stdin",
     "output_type": "stream",
     "text": [
      "請輸入數字:  88\n"
     ]
    },
    {
     "name": "stdout",
     "output_type": "stream",
     "text": [
      "you are A!\n"
     ]
    },
    {
     "name": "stdin",
     "output_type": "stream",
     "text": [
      "請輸入數字:  -1\n"
     ]
    }
   ],
   "source": [
    "#如果在執行的時候出錯，可點選search stack overflow按鈕，可導引出相關的解決方式\n",
    "while True:\n",
    "  number = input(\"請輸入數字: \")\n",
    "  number = int(number)\n",
    "  if(number == -1):\n",
    "    break\n",
    "  print(grade(number))"
   ]
  },
  {
   "cell_type": "markdown",
   "metadata": {},
   "source": [
    "## 邏輯練習:\n",
    "計算一個 3 位數等於其各位數字的立方和。例如：153 = 1^3 + 5^3 + 3^3，因此 153 就是一個答案，求100~999之間的共有幾個"
   ]
  },
  {
   "cell_type": "code",
   "execution_count": null,
   "metadata": {},
   "outputs": [],
   "source": []
  },
  {
   "cell_type": "code",
   "execution_count": 26,
   "metadata": {},
   "outputs": [
    {
     "name": "stdout",
     "output_type": "stream",
     "text": [
      "153\n",
      "370\n",
      "371\n",
      "407\n"
     ]
    }
   ],
   "source": [
    "#解\n",
    "for n in range(100,1000):\n",
    "    i = n // 100                    #取百位數\n",
    "    j = (n // 10) % 10              #取十位數\n",
    "    k = n % 10                      #取個位數\n",
    "    if n == i**3 + j**3 + k**3:\n",
    "        print(n)"
   ]
  },
  {
   "cell_type": "markdown",
   "metadata": {
    "colab_type": "text",
    "id": "9VWAoq-zTKF3"
   },
   "source": [
    "## 綜合練習: 請寫一個 function 可以計算 list 內偶數數字的總和，以 [1,2,3,5,6] 來講，答案就是 2 + 6 = 8 \n",
    "- 提示一: 任何數除以 2 之後餘 0 就代表是偶數，python 裡可以用 % 符號來取餘數，比方 4 % 2 結果會是 0\n",
    "- 提示二: 設一變數 sum = 0, 再來 sum = sum + 某數，用這種寫法就可以達到累加的效果"
   ]
  },
  {
   "cell_type": "code",
   "execution_count": 27,
   "metadata": {
    "colab": {},
    "colab_type": "code",
    "id": "mhUypR07Ya24"
   },
   "outputs": [
    {
     "ename": "IndentationError",
     "evalue": "expected an indented block (<ipython-input-27-c4dc37939e76>, line 8)",
     "output_type": "error",
     "traceback": [
      "\u001b[0;36m  File \u001b[0;32m\"<ipython-input-27-c4dc37939e76>\"\u001b[0;36m, line \u001b[0;32m8\u001b[0m\n\u001b[0;31m    print(even_number_sum(temp_list))\u001b[0m\n\u001b[0m        ^\u001b[0m\n\u001b[0;31mIndentationError\u001b[0m\u001b[0;31m:\u001b[0m expected an indented block\n"
     ]
    }
   ],
   "source": [
    "temp_list = [23,65,78,23,14]\n",
    "\n",
    "# 請將 function 完成\n",
    "def even_number_sum(number_list):\n",
    "\n",
    "#\n",
    "\n",
    "print(even_number_sum(temp_list))"
   ]
  },
  {
   "cell_type": "markdown",
   "metadata": {
    "colab_type": "text",
    "id": "TdKaQUf5Yczz"
   },
   "source": [
    "## 解答"
   ]
  },
  {
   "cell_type": "code",
   "execution_count": 28,
   "metadata": {
    "colab": {},
    "colab_type": "code",
    "id": "McZ5zKGVTCuW"
   },
   "outputs": [
    {
     "name": "stdout",
     "output_type": "stream",
     "text": [
      "92\n"
     ]
    }
   ],
   "source": [
    "#定義一 list\n",
    "temp_list = [23,65,78,23,14]\n",
    "#定義even_number_sum函數\n",
    "def even_number_sum(number_list):\n",
    "  #指定一常數sum為0，將其用來儲存總和\n",
    "  sum = 0\n",
    "  #使用for迴圈跑除以2餘數為0的數字，並將其加到sum這個值裡面\n",
    "  for number in number_list:\n",
    "    if(number % 2 == 0):\n",
    "      sum = sum + number\n",
    "  #回傳加總後的數字\n",
    "  return sum\n",
    "print(even_number_sum(temp_list))"
   ]
  },
  {
   "cell_type": "markdown",
   "metadata": {},
   "source": [
    "## 進階補充"
   ]
  },
  {
   "cell_type": "markdown",
   "metadata": {},
   "source": [
    "## 11.enumerate\n",
    "- 函數用於將一個可迭代的數據對象(如列表、元組或字符串)組合為一個索引序列，同時列出標籤和數據內容，一般用在 for 迴圈當中。"
   ]
  },
  {
   "cell_type": "code",
   "execution_count": 29,
   "metadata": {},
   "outputs": [
    {
     "name": "stdout",
     "output_type": "stream",
     "text": [
      "0 one\n",
      "1 two\n",
      "2 three\n"
     ]
    }
   ],
   "source": [
    "seq = ['one', 'two', 'three']\n",
    "for i, element in enumerate(seq):\n",
    "    print (i, element)"
   ]
  },
  {
   "cell_type": "markdown",
   "metadata": {},
   "source": [
    "## 12.Dictionary\n",
    "字典是另一種可變容器模型，且可存儲任意類型對象。\n",
    "\n",
    "字典的每個鍵值 key=>value 對用冒號 : 分割，每個鍵值對之間用逗號 , 分割，整個字典包括在花括號 {} 中 ,格式如下所示\n",
    "- d = {key1 : value1, key2 : value2 }"
   ]
  },
  {
   "cell_type": "code",
   "execution_count": 30,
   "metadata": {},
   "outputs": [
    {
     "name": "stdout",
     "output_type": "stream",
     "text": [
      "2\n",
      "<class 'str'>\n",
      "{'a': 1, 'b': 2, 'c': '3'}\n"
     ]
    }
   ],
   "source": [
    "dict = {'a': 1, 'b': 2, 'c': '3'}\n",
    "\n",
    "print(dict['b'])\n",
    "\n",
    "print(type(dict['c']))\n",
    "\n",
    "print(dict)"
   ]
  },
  {
   "cell_type": "markdown",
   "metadata": {},
   "source": [
    "## 小練習\n",
    "以下為Zara的資料，新增一資料為學校：AIA School"
   ]
  },
  {
   "cell_type": "code",
   "execution_count": 78,
   "metadata": {},
   "outputs": [],
   "source": [
    "dict = {'Name': 'Zara', 'Age': 7, 'Class': 'First'}"
   ]
  },
  {
   "cell_type": "code",
   "execution_count": null,
   "metadata": {},
   "outputs": [],
   "source": []
  },
  {
   "cell_type": "code",
   "execution_count": 79,
   "metadata": {},
   "outputs": [
    {
     "name": "stdout",
     "output_type": "stream",
     "text": [
      "{'Name': 'Zara', 'Age': 7, 'Class': 'First', 'School': 'AIA school'}\n"
     ]
    }
   ],
   "source": [
    "#解答\n",
    "dict = {'Name': 'Zara', 'Age': 7, 'Class': 'First'}\n",
    "dict['School']= 'AIA school'\n",
    "print(dict)"
   ]
  },
  {
   "cell_type": "markdown",
   "metadata": {},
   "source": [
    "## 13.try except\n",
    "- 當程式執行時發現有錯誤或者是需要進行符合條件時才執行的狀況可使用try except\n",
    "- 如果發生例外，程式流程會跳離例外發生點，比對except宣告的型態"
   ]
  },
  {
   "cell_type": "code",
   "execution_count": 83,
   "metadata": {},
   "outputs": [
    {
     "name": "stdout",
     "output_type": "stream",
     "text": [
      "(1, 2, 3)\n",
      "(4, 5, 6)\n"
     ]
    }
   ],
   "source": [
    "#right\n",
    "image = [(1,2,3),(4,5,6)]\n",
    "for i in image:\n",
    "    print(i)"
   ]
  },
  {
   "cell_type": "code",
   "execution_count": 84,
   "metadata": {
    "scrolled": true
   },
   "outputs": [
    {
     "ename": "TypeError",
     "evalue": "'NoneType' object is not iterable",
     "output_type": "error",
     "traceback": [
      "\u001b[0;31m---------------------------------------------------------------------------\u001b[0m",
      "\u001b[0;31mTypeError\u001b[0m                                 Traceback (most recent call last)",
      "\u001b[0;32m<ipython-input-84-d0a0729bd9c6>\u001b[0m in \u001b[0;36m<module>\u001b[0;34m\u001b[0m\n\u001b[1;32m      1\u001b[0m \u001b[0;31m#error\u001b[0m\u001b[0;34m\u001b[0m\u001b[0;34m\u001b[0m\u001b[0;34m\u001b[0m\u001b[0m\n\u001b[1;32m      2\u001b[0m \u001b[0mimage\u001b[0m \u001b[0;34m=\u001b[0m \u001b[0;32mNone\u001b[0m\u001b[0;34m\u001b[0m\u001b[0;34m\u001b[0m\u001b[0m\n\u001b[0;32m----> 3\u001b[0;31m \u001b[0;32mfor\u001b[0m \u001b[0mi\u001b[0m \u001b[0;32min\u001b[0m \u001b[0mimage\u001b[0m\u001b[0;34m:\u001b[0m\u001b[0;34m\u001b[0m\u001b[0;34m\u001b[0m\u001b[0m\n\u001b[0m\u001b[1;32m      4\u001b[0m     \u001b[0mprint\u001b[0m\u001b[0;34m(\u001b[0m\u001b[0mi\u001b[0m\u001b[0;34m)\u001b[0m\u001b[0;34m\u001b[0m\u001b[0;34m\u001b[0m\u001b[0m\n",
      "\u001b[0;31mTypeError\u001b[0m: 'NoneType' object is not iterable"
     ]
    }
   ],
   "source": [
    "#error\n",
    "image = None\n",
    "for i in image:\n",
    "    print(i)"
   ]
  },
  {
   "cell_type": "code",
   "execution_count": 85,
   "metadata": {},
   "outputs": [
    {
     "name": "stdout",
     "output_type": "stream",
     "text": [
      "Nothing\n"
     ]
    }
   ],
   "source": [
    "#解答\n",
    "try: \n",
    "    image = None\n",
    "    for i in image:\n",
    "        print(i)\n",
    "except:\n",
    "    print('Nothing')"
   ]
  },
  {
   "cell_type": "code",
   "execution_count": null,
   "metadata": {},
   "outputs": [],
   "source": []
  },
  {
   "cell_type": "markdown",
   "metadata": {},
   "source": [
    "## 14. class\n",
    "- 當我們需要重複呼叫不同function，但不想一直重複執行某些function時，可用class將function包起來\n",
    "- 使用class可在需要特定function時將其呼叫出來即可(之後再效能上的考慮時比較會需要)"
   ]
  },
  {
   "cell_type": "code",
   "execution_count": 86,
   "metadata": {},
   "outputs": [],
   "source": [
    "class Account:\n",
    "    def __init__(self, number, name):\n",
    "        self.number = number\n",
    "        self.name = name\n",
    "        self.balance = 0\n",
    "        \n",
    "    def deposit(self, amount):  #存款動作: amount代表存入金額\n",
    "        if amount <= 0:\n",
    "            print('must be positive')\n",
    "        self.balance += amount\n",
    "        \n",
    "    def withdraw(self, amount): #取款動作: amount代表取款金額\n",
    "        if amount <= self.balance:\n",
    "            self.balance -= amount\n",
    "        else:\n",
    "            print('balance not enough')"
   ]
  },
  {
   "cell_type": "code",
   "execution_count": 88,
   "metadata": {},
   "outputs": [
    {
     "name": "stdout",
     "output_type": "stream",
     "text": [
      "70\n"
     ]
    }
   ],
   "source": [
    "acct1 = Account('123–456–789', 'Justin') #開一個帳戶\n",
    "acct1.deposit(100)\n",
    "acct1.withdraw(30)\n",
    "print(acct1.balance) #餘額是 70"
   ]
  },
  {
   "cell_type": "markdown",
   "metadata": {},
   "source": [
    "# 小練習\n",
    "制定一個class為Foo，並定義一個function為printLine裡面指定一參數line='python'，裡面可印出line\n",
    "<br>制定一參數可呼叫class，並印出Java"
   ]
  },
  {
   "cell_type": "code",
   "execution_count": null,
   "metadata": {},
   "outputs": [],
   "source": []
  },
  {
   "cell_type": "code",
   "execution_count": 38,
   "metadata": {},
   "outputs": [
    {
     "name": "stdout",
     "output_type": "stream",
     "text": [
      "Java\n"
     ]
    }
   ],
   "source": [
    "#解答\n",
    "class Foo:\n",
    "    def printLine(self, line='Python'):\n",
    "        print(line)\n",
    "o1 = Foo()\n",
    "o1.printLine('Java')"
   ]
  },
  {
   "cell_type": "markdown",
   "metadata": {},
   "source": [
    "## IO\n",
    "- 檔案的讀寫\n",
    "- 參數參考:https://www.runoob.com/python/python-func-open.html"
   ]
  },
  {
   "cell_type": "code",
   "execution_count": 39,
   "metadata": {},
   "outputs": [],
   "source": [
    "# Tradition way to read file\n",
    "fp = open(\"hello.txt\", \"w\")\n",
    "fp.writelines(\"First Line in new File\\n\")\n",
    "fp.close()"
   ]
  },
  {
   "cell_type": "code",
   "execution_count": 40,
   "metadata": {},
   "outputs": [
    {
     "name": "stdout",
     "output_type": "stream",
     "text": [
      "['First Line in new File\\n']\n"
     ]
    }
   ],
   "source": [
    "# Tradition way to read file\n",
    "fp = open(\"hello.txt\", \"r\") # Notice here\n",
    "line = fp.readlines()\n",
    "print(line)\n",
    "fp.close()"
   ]
  },
  {
   "cell_type": "code",
   "execution_count": 41,
   "metadata": {},
   "outputs": [],
   "source": [
    "# Tradition way to append file\n",
    "fp = open(\"hello.txt\", \"a\")\n",
    "fp.writelines(\"Second Line in File\\n\")\n",
    "fp.close()"
   ]
  },
  {
   "cell_type": "code",
   "execution_count": 42,
   "metadata": {},
   "outputs": [
    {
     "name": "stdout",
     "output_type": "stream",
     "text": [
      "['First Line in new File\\n', 'Second Line in File\\n']\n"
     ]
    }
   ],
   "source": [
    "fp = open(\"hello.txt\", \"r\") # Notice here\n",
    "line = fp.readlines() # read in is list\n",
    "print(line)\n",
    "fp.close()"
   ]
  },
  {
   "cell_type": "code",
   "execution_count": 43,
   "metadata": {},
   "outputs": [
    {
     "name": "stdout",
     "output_type": "stream",
     "text": [
      "['First Line in new File\\n']\n",
      "First Line in new File\n",
      "Second Line in File\n"
     ]
    }
   ],
   "source": [
    "# another way to write file\n",
    "with open(\"hello.txt\", \"w\") as fp:\n",
    "    fp.writelines(\"First Line in new File\\n\")\n",
    "\n",
    "# another way to read file\n",
    "with open(\"hello.txt\", \"r\") as fp:\n",
    "    line = fp.readlines()\n",
    "print(line)\n",
    "\n",
    "# another way to append file\n",
    "with open(\"hello.txt\", \"a\") as fp:\n",
    "    fp.writelines(\"Second Line in File\\n\")\n",
    "\n",
    "with open(\"hello.txt\", \"r\") as fp:\n",
    "    for line in fp.readlines():\n",
    "        print(line[:-1]) "
   ]
  },
  {
   "cell_type": "markdown",
   "metadata": {},
   "source": [
    "# 小練習\n",
    "使用 Python 修改裡面的內容，把所有 \"File\" 換成 \"file\""
   ]
  },
  {
   "cell_type": "code",
   "execution_count": 53,
   "metadata": {},
   "outputs": [],
   "source": [
    "# Read in the file\n",
    "with open('hello.txt', 'r') as file :\n",
    "    filedata = file.read()\n",
    "\n",
    "# Replace the target string\n",
    "filedata = filedata.replace('File', 'file')\n",
    "\n",
    "# Write the file out again\n",
    "with open('hello.txt', 'w') as file:\n",
    "    file.write(filedata)"
   ]
  },
  {
   "cell_type": "markdown",
   "metadata": {},
   "source": [
    "# 常見錯誤\n",
    "- 通常寫程式常會發生執行不過兒跳出紅字的錯誤\n",
    "- 以下為幾個常見的錯誤以及如何解決\n",
    "- 通常可把錯誤的原因拷貝下來並放到google上去做搜尋"
   ]
  },
  {
   "cell_type": "markdown",
   "metadata": {},
   "source": [
    "## import error"
   ]
  },
  {
   "cell_type": "code",
   "execution_count": 1,
   "metadata": {},
   "outputs": [
    {
     "ename": "ModuleNotFoundError",
     "evalue": "No module named 'bert'",
     "output_type": "error",
     "traceback": [
      "\u001b[0;31m---------------------------------------------------------------------------\u001b[0m",
      "\u001b[0;31mModuleNotFoundError\u001b[0m                       Traceback (most recent call last)",
      "\u001b[0;32m<ipython-input-1-65cf89d370b5>\u001b[0m in \u001b[0;36m<module>\u001b[0;34m\u001b[0m\n\u001b[0;32m----> 1\u001b[0;31m \u001b[0;32mimport\u001b[0m \u001b[0mbert\u001b[0m\u001b[0;34m\u001b[0m\u001b[0;34m\u001b[0m\u001b[0m\n\u001b[0m",
      "\u001b[0;31mModuleNotFoundError\u001b[0m: No module named 'bert'"
     ]
    }
   ],
   "source": [
    "import bert"
   ]
  },
  {
   "cell_type": "code",
   "execution_count": null,
   "metadata": {},
   "outputs": [],
   "source": [
    "## 解答\n",
    "##錯誤原因為沒有bert這個套件 所以可以執行!pip install bert-tensorflow 即可解決此錯誤\n",
    "#!pip install bert-tensorflow"
   ]
  },
  {
   "cell_type": "markdown",
   "metadata": {},
   "source": [
    "## 保留字 error\n",
    "不能使用以下字元命名\n",
    "- ['False', 'None', 'True', 'and', 'as', 'assert', 'break', 'class', 'continue', 'def', 'del', 'elif', 'else', 'except', 'finally', 'for', 'from', 'global', 'if', 'import', 'in', 'is', 'lambda', 'nonlocal', 'not', 'or', 'pass', 'raise', 'return', 'try', 'while', 'with', 'yield']"
   ]
  },
  {
   "cell_type": "code",
   "execution_count": 42,
   "metadata": {},
   "outputs": [
    {
     "ename": "SyntaxError",
     "evalue": "can't assign to keyword (<ipython-input-42-761ed92244d3>, line 1)",
     "output_type": "error",
     "traceback": [
      "\u001b[0;36m  File \u001b[0;32m\"<ipython-input-42-761ed92244d3>\"\u001b[0;36m, line \u001b[0;32m1\u001b[0m\n\u001b[0;31m    True = 4\u001b[0m\n\u001b[0m            ^\u001b[0m\n\u001b[0;31mSyntaxError\u001b[0m\u001b[0;31m:\u001b[0m can't assign to keyword\n"
     ]
    }
   ],
   "source": [
    "True = 4"
   ]
  },
  {
   "cell_type": "code",
   "execution_count": 43,
   "metadata": {},
   "outputs": [],
   "source": [
    "#解答\n",
    "True_1 = 4"
   ]
  },
  {
   "cell_type": "markdown",
   "metadata": {},
   "source": [
    "## print error\n",
    "- pyhton 為一注重符號以及空格的語法，因此括號或者是空格一定要空對否則會無法執行\n",
    "- python2.7 and python 3.6 different"
   ]
  },
  {
   "cell_type": "code",
   "execution_count": 44,
   "metadata": {},
   "outputs": [
    {
     "ename": "SyntaxError",
     "evalue": "Missing parentheses in call to 'print'. Did you mean print('hello')? (<ipython-input-44-5a1ef41e7057>, line 1)",
     "output_type": "error",
     "traceback": [
      "\u001b[0;36m  File \u001b[0;32m\"<ipython-input-44-5a1ef41e7057>\"\u001b[0;36m, line \u001b[0;32m1\u001b[0m\n\u001b[0;31m    print 'hello'\u001b[0m\n\u001b[0m                ^\u001b[0m\n\u001b[0;31mSyntaxError\u001b[0m\u001b[0;31m:\u001b[0m Missing parentheses in call to 'print'. Did you mean print('hello')?\n"
     ]
    }
   ],
   "source": [
    "print 'hello'"
   ]
  },
  {
   "cell_type": "code",
   "execution_count": 45,
   "metadata": {},
   "outputs": [
    {
     "ename": "TypeError",
     "evalue": "'builtin_function_or_method' object is not subscriptable",
     "output_type": "error",
     "traceback": [
      "\u001b[0;31m---------------------------------------------------------------------------\u001b[0m",
      "\u001b[0;31mTypeError\u001b[0m                                 Traceback (most recent call last)",
      "\u001b[0;32m<ipython-input-45-5300111ac94f>\u001b[0m in \u001b[0;36m<module>\u001b[0;34m()\u001b[0m\n\u001b[0;32m----> 1\u001b[0;31m \u001b[0mprint\u001b[0m\u001b[0;34m[\u001b[0m\u001b[0;34m'hello'\u001b[0m\u001b[0;34m]\u001b[0m\u001b[0;34m\u001b[0m\u001b[0m\n\u001b[0m",
      "\u001b[0;31mTypeError\u001b[0m: 'builtin_function_or_method' object is not subscriptable"
     ]
    }
   ],
   "source": [
    "print['hello']"
   ]
  },
  {
   "cell_type": "code",
   "execution_count": 46,
   "metadata": {},
   "outputs": [
    {
     "name": "stdout",
     "output_type": "stream",
     "text": [
      "hello\n"
     ]
    }
   ],
   "source": [
    "print ('hello')"
   ]
  },
  {
   "cell_type": "markdown",
   "metadata": {},
   "source": [
    "## 字元型態錯誤\n",
    "- 型態要為正確否則放入函式時會無法執行\n",
    "- 可用type查看，並做轉型或者是數值轉換"
   ]
  },
  {
   "cell_type": "code",
   "execution_count": 47,
   "metadata": {},
   "outputs": [
    {
     "ename": "TypeError",
     "evalue": "'str' object cannot be interpreted as an integer",
     "output_type": "error",
     "traceback": [
      "\u001b[0;31m---------------------------------------------------------------------------\u001b[0m",
      "\u001b[0;31mTypeError\u001b[0m                                 Traceback (most recent call last)",
      "\u001b[0;32m<ipython-input-47-3c6bc110a7d5>\u001b[0m in \u001b[0;36m<module>\u001b[0;34m()\u001b[0m\n\u001b[1;32m      1\u001b[0m \u001b[0mx\u001b[0m \u001b[0;34m=\u001b[0m \u001b[0;34m'helloworld'\u001b[0m\u001b[0;34m\u001b[0m\u001b[0m\n\u001b[0;32m----> 2\u001b[0;31m \u001b[0;32mfor\u001b[0m \u001b[0mi\u001b[0m \u001b[0;32min\u001b[0m \u001b[0mrange\u001b[0m\u001b[0;34m(\u001b[0m\u001b[0mx\u001b[0m\u001b[0;34m)\u001b[0m\u001b[0;34m:\u001b[0m\u001b[0;34m\u001b[0m\u001b[0m\n\u001b[0m\u001b[1;32m      3\u001b[0m     \u001b[0mprint\u001b[0m\u001b[0;34m(\u001b[0m\u001b[0mx\u001b[0m\u001b[0;34m[\u001b[0m\u001b[0mi\u001b[0m\u001b[0;34m]\u001b[0m\u001b[0;34m)\u001b[0m\u001b[0;34m\u001b[0m\u001b[0m\n",
      "\u001b[0;31mTypeError\u001b[0m: 'str' object cannot be interpreted as an integer"
     ]
    }
   ],
   "source": [
    "x = 'helloworld'\n",
    "for i in range(x):\n",
    "    print(x[i])"
   ]
  },
  {
   "cell_type": "code",
   "execution_count": 48,
   "metadata": {},
   "outputs": [
    {
     "name": "stdout",
     "output_type": "stream",
     "text": [
      "h\n",
      "e\n",
      "l\n",
      "l\n",
      "o\n",
      "w\n",
      "o\n",
      "r\n",
      "l\n",
      "d\n"
     ]
    }
   ],
   "source": [
    "##解答\n",
    "x = 'helloworld'\n",
    "for i in range(len(x)):\n",
    "    print(x[i])"
   ]
  },
  {
   "cell_type": "markdown",
   "metadata": {},
   "source": [
    "## 如果遇到錯誤或者想搜尋網路上的資源時可至以下網站\n",
    "- stackoverflow - https://stackoverflow.com/\n",
    "- github - https://github.com/\n",
    "- paper with code - https://paperswithcode.com/"
   ]
  },
  {
   "cell_type": "markdown",
   "metadata": {},
   "source": [
    "![title](https://scontent.frmq2-2.fna.fbcdn.net/v/t1.0-9/54731354_1494790547320237_3169320448630456320_n.jpg?_nc_cat=107&_nc_oc=AQkaRHRAU93bOoWpwUQG6EIH6cUZoR0FToMaB_OmEKNg3tLRzcJQDvy4yatVbQcw2xs&_nc_ht=scontent.frmq2-2.fna&oh=5f1954a521676fdb41386b614568c92c&oe=5E6458A9)"
   ]
  }
 ],
 "metadata": {
  "colab": {
   "collapsed_sections": [],
   "name": "python基礎語法 .ipynb",
   "provenance": [],
   "version": "0.3.2"
  },
  "kernelspec": {
   "display_name": "Python 3",
   "language": "python",
   "name": "python3"
  },
  "language_info": {
   "codemirror_mode": {
    "name": "ipython",
    "version": 3
   },
   "file_extension": ".py",
   "mimetype": "text/x-python",
   "name": "python",
   "nbconvert_exporter": "python",
   "pygments_lexer": "ipython3",
   "version": "3.7.3"
  }
 },
 "nbformat": 4,
 "nbformat_minor": 4
}
